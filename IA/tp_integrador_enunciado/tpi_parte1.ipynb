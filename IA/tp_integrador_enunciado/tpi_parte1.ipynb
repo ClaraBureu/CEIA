{
  "cells": [
    {
      "attachments": {},
      "cell_type": "markdown",
      "id": "07289bb0",
      "metadata": {},
      "source": [
        "# Trabajo integrador - Parte 1\n",
        "## Python y Numpy\n",
        "\n",
        "**Nombre**: Clara Bureu"
      ]
    },
    {
      "cell_type": "code",
      "execution_count": 2,
      "id": "aaf94e0a",
      "metadata": {
        "id": "aaf94e0a"
      },
      "outputs": [],
      "source": [
        "import numpy as np"
      ]
    },
    {
      "attachments": {},
      "cell_type": "markdown",
      "id": "0ffe9554",
      "metadata": {},
      "source": [
        "## Ejercicio 1\n",
        "\n",
        "Dada una matriz en formato *numpy array*, donde cada fila de la matriz representa un vector matemático, se requiere computar las normas $l_0$, $l_1$, $l_2$, $l_{\\infty}$, según la siguientes definiciones:\n",
        "\n",
        "\\begin{equation}\n",
        "    ||\\mathbf{x}||^{p} = \\bigg(\\sum_{j=1}^{n}{|x_i|^p}\\bigg)^{\\frac{1}{p}}\n",
        "\\end{equation}\n",
        "\n",
        "con los casos especiales para $p=0$ y $p=\\infty$ siendo:\n",
        "\n",
        "\\begin{equation}\n",
        "    \\begin{array}{rcl}\n",
        "        ||\\mathbf{x}||_0 & = & \\bigg(\\sum_{j=1 \\wedge x_j != 0}{|x_i|}\\bigg)\\\\\n",
        "        ||\\mathbf{x}||_{\\infty} & = & \\max_{i}{|x_i|}\\\\\n",
        "    \\end{array}\n",
        "\\end{equation}"
      ]
    },
    {
      "cell_type": "code",
      "execution_count": 5,
      "id": "0bdb0ee3",
      "metadata": {},
      "outputs": [
        {
          "name": "stdout",
          "output_type": "stream",
          "text": [
            "[[0.21232636 0.56136105 0.8971688 ]\n",
            " [0.67917574 0.07806362 0.34427852]\n",
            " [0.10672352 0.54267187 0.66589374]]\n",
            "9\n",
            "4.087663220877966\n",
            "1.4625998102182374\n",
            "0.8971688002334378\n"
          ]
        }
      ],
      "source": [
        "matriz = np.random.rand(3,3)\n",
        "l0 = np.count_nonzero(matriz)\n",
        "l1 = np.sum(np.abs(matriz))\n",
        "l2 = np.linalg.norm(matriz, ord=2)\n",
        "linf = np.max(np.abs(matriz))\n",
        "\n",
        "print(matriz)\n",
        "print(l0)\n",
        "print(l1)\n",
        "print(l2)\n",
        "print(linf)"
      ]
    },
    {
      "attachments": {},
      "cell_type": "markdown",
      "id": "dd66d862",
      "metadata": {},
      "source": [
        "## Ejercicio 2\n",
        "\n",
        "En clasificación contamos con dos arreglos, la “verdad” y la “predicción”. Cada elemento de los arreglos pueden tomar dos valores, “True” (representado por 1) y “False” (representado por 0). Entonces podemos definir 4 variables:\n",
        "\n",
        "* True Positive (TP): El valor verdadero es 1 y el valor predicho es 1\n",
        "* True Negative (TN): El valor verdadero es 0 y el valor predicho es 0\n",
        "* False Positive (FP): El valor verdadero es 0 y el valor predicho es 1\n",
        "* False Negative (FN): El valor verdadero es 1 y el valor predicho es 0\n",
        "\n",
        "A partir de esto definimos:\n",
        "\n",
        "* Precision = TP / (TP + FP)\n",
        "* Recall = TP / (TP + FN)\n",
        "* Accuracy = (TP + TN) / (TP + TN + FP + FN)\n",
        " \n",
        "Calcular las 3 métricas con Numpy y operaciones vectorizadas."
      ]
    },
    {
      "cell_type": "code",
      "execution_count": 6,
      "id": "794dcd58",
      "metadata": {},
      "outputs": [],
      "source": [
        "truth = np.array([1,1,0,1,1,1,0,0,0,1])\n",
        "prediction = np.array([1,1,1,1,0,0,1,1,0,0])\n",
        "\n",
        "TP = np.sum(np.logical_and(truth == 1, prediction == 1))\n",
        "TN = np.sum(np.logical_and(truth == 0, prediction == 0))\n",
        "FP = np.sum(np.logical_and(truth == 0, prediction == 1))\n",
        "FN = np.sum(np.logical_and(truth == 1, prediction == 0))\n",
        "\n",
        "precision = TP/(TP+FP)\n",
        "recall = TP/(TP+FN)\n",
        "accuracy = (TP+FN)/(TP+TN+FP+FN) \n"
      ]
    },
    {
      "attachments": {},
      "cell_type": "markdown",
      "id": "d0ac6f6f",
      "metadata": {},
      "source": [
        "## Ejercicio 3\n",
        "\n",
        "Crear una función que separe los datos en train-validation-test. Debe recibir de parametros:\n",
        "\n",
        "- X: Array o Dataframe que contiene los datos de entrada del sistema.\n",
        "- y: Array o Dataframe que contiene la(s) variable(s) target del problema.\n",
        "- train_percentage: _float_ el porcentaje de training.\n",
        "- test_percentage: _float_ el porcentaje de testing.\n",
        "- val_percentage: _float_ el porcentaje de validación.\n",
        "- shuffle: _bool_ determina si el split debe hacerse de manera random o no.\n",
        "\n",
        "Hints: \n",
        "\n",
        "* Usar Indexing y slicing\n",
        "* Usar np.random.[...]"
      ]
    },
    {
      "cell_type": "code",
      "execution_count": 13,
      "id": "ca85fc66",
      "metadata": {},
      "outputs": [
        {
          "name": "stdout",
          "output_type": "stream",
          "text": [
            "[0.73052319 0.82083755 0.53459386 0.49445874 0.36252455]\n",
            "[0.16239692 0.57558335 0.31167837 0.39274545 0.01524251]\n",
            "Conjunto de datos:\n",
            "[[ 1  2]\n",
            " [ 3  4]\n",
            " [ 5  6]\n",
            " [ 7  8]\n",
            " [ 9 10]] [0 1 0 1 1]\n",
            "Conjunto de entrenamiento:\n",
            "[0.73052319 0.82083755 0.53459386] [0.16239692 0.57558335 0.31167837]\n",
            "Conjunto de prueba:\n",
            "[0.49445874] [0.39274545]\n",
            "Conjunto de validación:\n",
            "[0.36252455] [0.01524251]\n"
          ]
        }
      ],
      "source": [
        "\n",
        "def split(X_input,\n",
        "          Y_input,\n",
        "          train_size=0.7,\n",
        "          val_size=0.15,\n",
        "          test_size=0.15,\n",
        "          random_state=42,\n",
        "          shuffle=True):\n",
        "    \n",
        "      if shuffle:\n",
        "            X_input = np.random.rand(5)\n",
        "            Y_input = np.random.rand(5)\n",
        "            print(X_input)\n",
        "            print(Y_input)\n",
        "\n",
        "      count = len(X_input)\n",
        "    \n",
        "      train = int(count * train_size)\n",
        "      val = int(count * val_size)\n",
        "      test = int(count * test_size)\n",
        "\n",
        "      X_train = X_input[:train]\n",
        "      Y_train = Y_input[:train]\n",
        "\n",
        "      X_test = X_input[train:train+test]\n",
        "      Y_test = Y_input[train:train+test]\n",
        "\n",
        "      X_val = X_input[train+test:]\n",
        "      Y_val = Y_input[train+test:]\n",
        "\n",
        "      return X_train, Y_train, X_test, Y_test, X_val, Y_val\n",
        "\n",
        "import numpy as np\n",
        "import pandas as pd\n",
        "\n",
        "# Ejemplo de datos de entrada\n",
        "X = np.array([[1, 2], [3, 4], [5, 6], [7, 8], [9, 10]])\n",
        "y = np.array([0, 1, 0, 1, 1])\n",
        "\n",
        "# Llamar a la función de división de datos\n",
        "X_train, Y_train, X_test, Y_test, X_val, Y_val = split(X, y, train_size=0.7, test_size=0.2, val_size=0.1)\n",
        "\n",
        "# Imprimir los conjuntos de datos resultantes\n",
        "print(\"Conjunto de datos:\")\n",
        "print(X, y)\n",
        "print(\"Conjunto de entrenamiento:\")\n",
        "print(X_train, Y_train)\n",
        "print(\"Conjunto de prueba:\")\n",
        "print(X_test, Y_test)\n",
        "print(\"Conjunto de validación:\")\n",
        "print(X_val, Y_val)"
      ]
    }
  ],
  "metadata": {
    "colab": {
      "collapsed_sections": [],
      "name": "Practica_clase_3.ipynb",
      "provenance": []
    },
    "kernelspec": {
      "display_name": "Python 3.10.7 64-bit",
      "language": "python",
      "name": "python3"
    },
    "language_info": {
      "codemirror_mode": {
        "name": "ipython",
        "version": 3
      },
      "file_extension": ".py",
      "mimetype": "text/x-python",
      "name": "python",
      "nbconvert_exporter": "python",
      "pygments_lexer": "ipython3",
      "version": "3.11.4"
    },
    "vscode": {
      "interpreter": {
        "hash": "b5c22da4a52024410f64f9c5a5e2b4ffeeb944a5ed00e8825a42174cdab30315"
      }
    }
  },
  "nbformat": 4,
  "nbformat_minor": 5
}
