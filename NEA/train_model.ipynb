{
 "cells": [
  {
   "cell_type": "code",
   "execution_count": 1,
   "metadata": {},
   "outputs": [],
   "source": [
    "import re\n",
    "import datetime\n",
    "import pandas as pd\n",
    "import json\n",
    "from osisoft.pidevclub.piwebapi.pi_web_api_client import PIWebApiClient\n",
    "from pandasgui import show\n",
    "import matplotlib.pyplot as plt\n",
    "import seaborn as sns\n",
    "import plotly.express as px\n",
    "import os\n",
    "from sklearn.model_selection import train_test_split\n",
    "import scipy.stats as stats\n",
    "from sklearn.ensemble import RandomForestClassifier\n",
    "from sklearn.preprocessing import StandardScaler\n",
    "import numpy as np\n",
    "from sklearn.preprocessing import StandardScaler\n",
    "from sklearn.metrics import accuracy_score, precision_score, recall_score, f1_score\n",
    "from sklearn.metrics import roc_auc_score, auc, roc_curve\n",
    "from sklearn.metrics import confusion_matrix, classification_report\n",
    "from sklearn.metrics import ConfusionMatrixDisplay, RocCurveDisplay\n",
    "from sklearn.decomposition import PCA\n",
    "from sklearn.linear_model import LogisticRegressionCV, LogisticRegression\n",
    "from sklearn.ensemble import RandomForestClassifier, GradientBoostingClassifier\n",
    "from sklearn.svm import SVC\n",
    "from sklearn.neighbors import KNeighborsClassifier\n",
    "from sklearn.tree import DecisionTreeClassifier\n",
    "import pickle"
   ]
  },
  {
   "cell_type": "code",
   "execution_count": 2,
   "metadata": {},
   "outputs": [],
   "source": [
    "df_nea_hora_con_ratios = pd.read_csv('df_nea_hora_colapsos.csv')"
   ]
  },
  {
   "cell_type": "code",
   "execution_count": 3,
   "metadata": {},
   "outputs": [],
   "source": [
    "df_nea_hora_con_ratios.set_index('Timestamp', inplace=True)"
   ]
  },
  {
   "cell_type": "code",
   "execution_count": 4,
   "metadata": {},
   "outputs": [
    {
     "name": "stdout",
     "output_type": "stream",
     "text": [
      "Train: 3526\n",
      "Tests: 980\n",
      "Validation: 392\n"
     ]
    }
   ],
   "source": [
    "y = df_nea_hora_con_ratios['Colapso'].dropna()  # Drop rows with NaN values in the target variable\n",
    "\n",
    "# Drop corresponding rows in the feature matrix\n",
    "X = df_nea_hora_con_ratios.drop(['Colapso'], axis=1).loc[y.index]\n",
    "\n",
    "X_train, X_test, y_train, y_test = train_test_split(X, y, test_size=0.2, shuffle=True, stratify=df_nea_hora_con_ratios['Colapso'])\n",
    "\n",
    "X_train, X_val, y_train, y_val = train_test_split(X_train, y_train, test_size= 0.1, shuffle=True, stratify=y_train)\n",
    "\n",
    "print(\"Train:\", len(X_train))\n",
    "print(\"Tests:\", len(X_test))\n",
    "print(\"Validation:\", len(X_val))"
   ]
  },
  {
   "cell_type": "code",
   "execution_count": 5,
   "metadata": {},
   "outputs": [],
   "source": [
    "X_train.replace([np.inf, -np.inf], np.nan, inplace=True)\n",
    "X_train.fillna(0, inplace=True)\n",
    "\n",
    "X_test.replace([np.inf, -np.inf], np.nan, inplace=True)\n",
    "X_test.fillna(0, inplace=True)\n",
    "\n",
    "X_val.replace([np.inf, -np.inf], np.nan, inplace=True)\n",
    "X_val.fillna(0, inplace=True)"
   ]
  },
  {
   "cell_type": "code",
   "execution_count": 6,
   "metadata": {},
   "outputs": [],
   "source": [
    "def evaluate_classification_model(X_train, y_train, X_val, y_val, X_test, y_test, Scale=False, Model='logistic'):\n",
    "    if Scale:\n",
    "        scaler = StandardScaler()\n",
    "        X_train = scaler.fit_transform(X_train)\n",
    "        X_val = scaler.transform(X_val)\n",
    "        X_test = scaler.transform(X_test)\n",
    "\n",
    "    if Model == 'logistic':\n",
    "        model = LogisticRegression(max_iter=1000)\n",
    "    elif Model == 'random_forest':\n",
    "        model = RandomForestClassifier(criterion='entropy', max_depth=None, min_samples_split=2, min_samples_leaf=1, random_state=42)\n",
    "    elif Model == 'gradient_boosting':\n",
    "        model = GradientBoostingClassifier()\n",
    "    elif Model == 'svm':\n",
    "        model = SVC(kernel='linear', probability=True)\n",
    "    elif Model == 'knn':  \n",
    "        model = KNeighborsClassifier(n_neighbors=9, metric=\"minkowski\", p=2)\n",
    "    elif Model == 'decision_tree_classifier':  \n",
    "        model = DecisionTreeClassifier(criterion='entropy', splitter='best', max_depth=None, min_samples_split=2, min_samples_leaf=1, random_state=42)\n",
    "    else:\n",
    "        raise ValueError(\"Model type not recognized\")\n",
    "\n",
    "    model.fit(X_train, y_train)\n",
    "    y_pred_val = model.predict(X_val)\n",
    "    y_pred_test = model.predict(X_test)\n",
    "\n",
    "    #sns.histplot(data=y_pred_val)\n",
    "\n",
    "    accuracy_val = accuracy_score(y_pred_val, y_val)\n",
    "    precision_val = precision_score(y_pred_val, y_val, average='weighted')\n",
    "    recall_val = recall_score(y_pred_val, y_val, average='weighted')\n",
    "    f1_val = f1_score(y_pred_val, y_val, average='weighted')\n",
    "\n",
    "    metrics_val_df = pd.DataFrame({\n",
    "        'Modelo': [Model],\n",
    "        'Scale': [Scale],\n",
    "        'Accuracy': [accuracy_val],\n",
    "        'Precision': [precision_val],\n",
    "        'Recall': [recall_val],\n",
    "        'F1': [f1_val]\n",
    "    })\n",
    "\n",
    "    # Calculamos la probabilidad del modelo\n",
    "    prob_total = model.predict_proba(X_test)[:, -1] # para llevarlo a 1-d\n",
    "\n",
    "    print(f\"Informe de clasificación para el modelo {Model} en conjunto de prueba:\")\n",
    "    print(classification_report(y_test, y_pred_test))\n",
    "\n",
    "    accuracy_test = accuracy_score(y_pred_test, y_test)\n",
    "\n",
    "    return metrics_val_df"
   ]
  },
  {
   "cell_type": "code",
   "execution_count": 7,
   "metadata": {},
   "outputs": [
    {
     "name": "stdout",
     "output_type": "stream",
     "text": [
      "Informe de clasificación para el modelo logistic en conjunto de prueba:\n",
      "              precision    recall  f1-score   support\n",
      "\n",
      "           1       0.82      0.87      0.85       286\n",
      "           2       0.71      0.66      0.68       325\n",
      "           3       0.80      0.82      0.81       360\n",
      "         100       0.50      0.44      0.47         9\n",
      "\n",
      "    accuracy                           0.78       980\n",
      "   macro avg       0.71      0.70      0.70       980\n",
      "weighted avg       0.77      0.78      0.78       980\n",
      "\n",
      "Informe de clasificación para el modelo random_forest en conjunto de prueba:\n",
      "              precision    recall  f1-score   support\n",
      "\n",
      "           1       0.97      0.96      0.96       286\n",
      "           2       0.93      0.96      0.95       325\n",
      "           3       0.97      0.96      0.97       360\n",
      "         100       0.62      0.56      0.59         9\n",
      "\n",
      "    accuracy                           0.96       980\n",
      "   macro avg       0.88      0.86      0.87       980\n",
      "weighted avg       0.96      0.96      0.96       980\n",
      "\n",
      "Informe de clasificación para el modelo gradient_boosting en conjunto de prueba:\n",
      "              precision    recall  f1-score   support\n",
      "\n",
      "           1       0.94      0.91      0.93       286\n",
      "           2       0.89      0.90      0.90       325\n",
      "           3       0.95      0.96      0.95       360\n",
      "         100       0.33      0.33      0.33         9\n",
      "\n",
      "    accuracy                           0.92       980\n",
      "   macro avg       0.78      0.78      0.78       980\n",
      "weighted avg       0.92      0.92      0.92       980\n",
      "\n",
      "Informe de clasificación para el modelo svm en conjunto de prueba:\n",
      "              precision    recall  f1-score   support\n",
      "\n",
      "           1       0.82      0.91      0.86       286\n",
      "           2       0.76      0.71      0.74       325\n",
      "           3       0.84      0.82      0.83       360\n",
      "         100       0.40      0.22      0.29         9\n",
      "\n",
      "    accuracy                           0.81       980\n",
      "   macro avg       0.70      0.67      0.68       980\n",
      "weighted avg       0.80      0.81      0.80       980\n",
      "\n",
      "Informe de clasificación para el modelo knn en conjunto de prueba:\n",
      "              precision    recall  f1-score   support\n",
      "\n",
      "           1       0.89      0.92      0.90       286\n",
      "           2       0.87      0.85      0.86       325\n",
      "           3       0.93      0.94      0.94       360\n",
      "         100       0.50      0.22      0.31         9\n",
      "\n",
      "    accuracy                           0.90       980\n",
      "   macro avg       0.80      0.73      0.75       980\n",
      "weighted avg       0.89      0.90      0.90       980\n",
      "\n",
      "Informe de clasificación para el modelo decision_tree_classifier en conjunto de prueba:\n",
      "              precision    recall  f1-score   support\n",
      "\n",
      "           1       0.95      0.95      0.95       286\n",
      "           2       0.91      0.92      0.91       325\n",
      "           3       0.95      0.96      0.95       360\n",
      "         100       0.40      0.22      0.29         9\n",
      "\n",
      "    accuracy                           0.93       980\n",
      "   macro avg       0.80      0.76      0.78       980\n",
      "weighted avg       0.93      0.93      0.93       980\n",
      "\n",
      "                     Modelo  Scale  Accuracy  Precision    Recall        F1\n",
      "0                  logistic   True  0.747449   0.752619  0.747449  0.748882\n",
      "1             random_forest   True  0.979592   0.979622  0.979592  0.979438\n",
      "2         gradient_boosting   True  0.928571   0.933329  0.928571  0.930137\n",
      "3                       svm   True  0.798469   0.800393  0.798469  0.798960\n",
      "4                       knn   True  0.869898   0.874421  0.869898  0.871209\n",
      "5  decision_tree_classifier   True  0.928571   0.931290  0.928571  0.929211\n"
     ]
    }
   ],
   "source": [
    "df_result = pd.DataFrame()\n",
    "\n",
    "df_result = pd.concat([df_result, evaluate_classification_model(X_train, y_train, X_val, y_val, X_test, y_test, Scale=True, Model='logistic')], ignore_index=True)\n",
    "df_result = pd.concat([df_result, evaluate_classification_model(X_train, y_train, X_val, y_val, X_test, y_test, Scale=True, Model='random_forest')], ignore_index=True)\n",
    "df_result = pd.concat([df_result, evaluate_classification_model(X_train, y_train, X_val, y_val, X_test, y_test, Scale=True, Model='gradient_boosting')], ignore_index=True)\n",
    "df_result = pd.concat([df_result, evaluate_classification_model(X_train, y_train, X_val, y_val, X_test, y_test, Scale=True, Model='svm')], ignore_index=True)\n",
    "df_result = pd.concat([df_result, evaluate_classification_model(X_train, y_train, X_val, y_val, X_test, y_test, Scale=True, Model='knn')], ignore_index=True)\n",
    "df_result = pd.concat([df_result, evaluate_classification_model(X_train, y_train, X_val, y_val, X_test, y_test, Scale=True, Model='decision_tree_classifier')], ignore_index=True)\n",
    "\n",
    "print(df_result)"
   ]
  },
  {
   "cell_type": "code",
   "execution_count": 8,
   "metadata": {},
   "outputs": [
    {
     "name": "stdout",
     "output_type": "stream",
     "text": [
      "Accuracy: 0.9795918367346939\n",
      "Precision: 0.9801799345692475\n",
      "Recall: 0.9795918367346939\n",
      "F1 Score: 0.9797451937747941\n"
     ]
    },
    {
     "data": {
      "image/png": "[encoded data removed]",
      "text/plain": [
       "<Figure size 640x480 with 1 Axes>"
      ]
     },
     "metadata": {},
     "output_type": "display_data"
    }
   ],
   "source": [
    "# Crear e entrenar el modelo RandomForestClassifier\n",
    "model = RandomForestClassifier(criterion='entropy', max_depth=None, min_samples_split=2, min_samples_leaf=1, random_state=42)\n",
    "model.fit(X_train, y_train)\n",
    "\n",
    "pickle.dump(model, open('model.pkl', 'wb')) #save\n",
    " \n",
    "# Predecir en los conjuntos de validación y prueba\n",
    "y_pred_val = model.predict(X_val)\n",
    "y_pred_test = model.predict(X_test)\n",
    "\n",
    "# Calcular métricas de evaluación\n",
    "accuracy_val = accuracy_score(y_val, y_pred_val)\n",
    "precision_val = precision_score(y_val, y_pred_val, average='weighted')  # Para problemas multiclase, usa 'weighted'\n",
    "recall_val = recall_score(y_val, y_pred_val, average='weighted')  # Para problemas multiclase, usa 'weighted'\n",
    "f1_val = f1_score(y_val, y_pred_val, average='weighted')  # Para problemas multiclase, usa 'weighted'\n",
    "\n",
    "# Calcular la probabilidad del modelo\n",
    "if hasattr(model, 'decision_function'):\n",
    "    scores = model.decision_function(X_test)\n",
    "else:\n",
    "    scores = model.predict_proba(X_test)[:, 1] \n",
    "\n",
    "# Realizar la curva ROC\n",
    "fpr_total, tpr_total, _ = roc_curve(y_true=y_test, y_score=scores, pos_label=1)  \n",
    "roc_auc = auc(fpr_total, tpr_total)\n",
    "\n",
    "# Ploteamos la curva ROC\n",
    "plt.plot(fpr_total, tpr_total, label=f\"Modelo (AUC = {roc_auc:.2f})\")\n",
    "plt.xlim([-0.01, 1.01])\n",
    "plt.ylim([-0.01, 1.01])\n",
    "plt.xlabel(\"Tasa de falsos positivos\")\n",
    "plt.ylabel(\"Tasa de verdaderos positivos\")\n",
    "plt.legend()\n",
    "\n",
    "# Mostrar métricas\n",
    "print(f\"Accuracy: {accuracy_val}\")\n",
    "print(f\"Precision: {precision_val}\")\n",
    "print(f\"Recall: {recall_val}\")\n",
    "print(f\"F1 Score: {f1_val}\")\n",
    "\n",
    "# Mostrar la curva ROC\n",
    "plt.show()\n"
   ]
  },
  {
   "cell_type": "code",
   "execution_count": 9,
   "metadata": {},
   "outputs": [
    {
     "data": {
      "image/png": "[encoded data removed]",
      "text/plain": [
       "<Figure size 500x500 with 2 Axes>"
      ]
     },
     "metadata": {},
     "output_type": "display_data"
    }
   ],
   "source": [
    "cm = confusion_matrix(y_test, y_pred_test)\n",
    "disp = ConfusionMatrixDisplay(confusion_matrix=cm)\n",
    "\n",
    "fig, ax = plt.subplots(figsize=(5,5))\n",
    "ax.grid(False)\n",
    "disp.plot(ax=ax);"
   ]
  }
 ],
 "metadata": {
  "kernelspec": {
   "display_name": "NEA-jRDK6KIF",
   "language": "python",
   "name": "python3"
  },
  "language_info": {
   "codemirror_mode": {
    "name": "ipython",
    "version": 3
   },
   "file_extension": ".py",
   "mimetype": "text/x-python",
   "name": "python",
   "nbconvert_exporter": "python",
   "pygments_lexer": "ipython3",
   "version": "3.11.5"
  }
 },
 "nbformat": 4,
 "nbformat_minor": 2
}
