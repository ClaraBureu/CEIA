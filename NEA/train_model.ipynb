{
 "cells": [
  {
   "cell_type": "code",
   "execution_count": 81,
   "metadata": {},
   "outputs": [],
   "source": [
    "import re\n",
    "import datetime\n",
    "import pandas as pd\n",
    "import json\n",
    "from osisoft.pidevclub.piwebapi.pi_web_api_client import PIWebApiClient\n",
    "from pandasgui import show\n",
    "import matplotlib.pyplot as plt\n",
    "import seaborn as sns\n",
    "import plotly.express as px\n",
    "import os\n",
    "from sklearn.model_selection import train_test_split\n",
    "import scipy.stats as stats\n",
    "from sklearn.ensemble import RandomForestClassifier\n",
    "from sklearn.preprocessing import StandardScaler\n",
    "import numpy as np\n",
    "from sklearn.preprocessing import StandardScaler\n",
    "from sklearn.metrics import accuracy_score, precision_score, recall_score, f1_score\n",
    "from sklearn.metrics import roc_auc_score, auc, roc_curve\n",
    "from sklearn.metrics import confusion_matrix, classification_report\n",
    "from sklearn.metrics import ConfusionMatrixDisplay, RocCurveDisplay\n",
    "from sklearn.decomposition import PCA\n",
    "from sklearn.linear_model import LogisticRegressionCV, LogisticRegression\n",
    "from sklearn.ensemble import RandomForestClassifier, GradientBoostingClassifier\n",
    "from sklearn.svm import SVC\n",
    "from sklearn.neighbors import KNeighborsClassifier\n",
    "from sklearn.tree import DecisionTreeClassifier\n",
    "import pickle"
   ]
  },
  {
   "cell_type": "code",
   "execution_count": 82,
   "metadata": {},
   "outputs": [],
   "source": [
    "df_nea_hora_con_ratios = pd.read_csv('df_nea_hora_con_ratios.csv')"
   ]
  },
  {
   "cell_type": "code",
   "execution_count": 83,
   "metadata": {},
   "outputs": [],
   "source": [
    "df_nea_hora_con_ratios.set_index('Timestamp', inplace=True)"
   ]
  },
  {
   "cell_type": "code",
   "execution_count": 84,
   "metadata": {},
   "outputs": [
    {
     "name": "stdout",
     "output_type": "stream",
     "text": [
      "Train: 1689\n",
      "Tests: 470\n",
      "Validation: 188\n"
     ]
    }
   ],
   "source": [
    "y = df_nea_hora_con_ratios['Colapso'].dropna()  # Drop rows with NaN values in the target variable\n",
    "\n",
    "# Drop corresponding rows in the feature matrix\n",
    "X = df_nea_hora_con_ratios.drop(['Colapso'], axis=1).loc[y.index]\n",
    "\n",
    "X_train, X_test, y_train, y_test = train_test_split(X, y, test_size=0.2, shuffle=True, stratify=df_nea_hora_con_ratios['Colapso'])\n",
    "\n",
    "X_train, X_val, y_train, y_val = train_test_split(X_train, y_train, test_size= 0.1, shuffle=True, stratify=y_train)\n",
    "\n",
    "print(\"Train:\", len(X_train))\n",
    "print(\"Tests:\", len(X_test))\n",
    "print(\"Validation:\", len(X_val))"
   ]
  },
  {
   "cell_type": "code",
   "execution_count": 85,
   "metadata": {},
   "outputs": [],
   "source": [
    "X_train.replace([np.inf, -np.inf], np.nan, inplace=True)\n",
    "X_train.fillna(0, inplace=True)\n",
    "\n",
    "X_test.replace([np.inf, -np.inf], np.nan, inplace=True)\n",
    "X_test.fillna(0, inplace=True)\n",
    "\n",
    "X_val.replace([np.inf, -np.inf], np.nan, inplace=True)\n",
    "X_val.fillna(0, inplace=True)"
   ]
  },
  {
   "cell_type": "code",
   "execution_count": 86,
   "metadata": {},
   "outputs": [],
   "source": [
    "def evaluate_classification_model(X_train, y_train, X_val, y_val, X_test, y_test, Scale=False, Model='logistic'):\n",
    "    if Scale:\n",
    "        scaler = StandardScaler()\n",
    "        X_train = scaler.fit_transform(X_train)\n",
    "        X_val = scaler.transform(X_val)\n",
    "        X_test = scaler.transform(X_test)\n",
    "\n",
    "    if Model == 'logistic':\n",
    "        model = LogisticRegression(max_iter=1000)\n",
    "    elif Model == 'random_forest':\n",
    "        model = RandomForestClassifier(criterion='entropy', max_depth=None, min_samples_split=2, min_samples_leaf=1, random_state=42)\n",
    "    elif Model == 'gradient_boosting':\n",
    "        model = GradientBoostingClassifier()\n",
    "    elif Model == 'svm':\n",
    "        model = SVC(kernel='linear', probability=True)\n",
    "    elif Model == 'knn':  \n",
    "        model = KNeighborsClassifier(n_neighbors=9, metric=\"minkowski\", p=2)\n",
    "    elif Model == 'decision_tree_classifier':  \n",
    "        model = DecisionTreeClassifier(criterion='entropy', splitter='best', max_depth=None, min_samples_split=2, min_samples_leaf=1, random_state=42)\n",
    "    else:\n",
    "        raise ValueError(\"Model type not recognized\")\n",
    "\n",
    "    model.fit(X_train, y_train)\n",
    "    y_pred_val = model.predict(X_val)\n",
    "    y_pred_test = model.predict(X_test)\n",
    "\n",
    "    #sns.histplot(data=y_pred_val)\n",
    "\n",
    "    accuracy_val = accuracy_score(y_pred_val, y_val)\n",
    "    precision_val = precision_score(y_pred_val, y_val, average='weighted')\n",
    "    recall_val = recall_score(y_pred_val, y_val, average='weighted')\n",
    "    f1_val = f1_score(y_pred_val, y_val, average='weighted')\n",
    "\n",
    "    metrics_val_df = pd.DataFrame({\n",
    "        'Modelo': [Model],\n",
    "        'Scale': [Scale],\n",
    "        'Accuracy': [accuracy_val],\n",
    "        'Precision': [precision_val],\n",
    "        'Recall': [recall_val],\n",
    "        'F1': [f1_val]\n",
    "    })\n",
    "\n",
    "    # Calculamos la probabilidad del modelo\n",
    "    prob_total = model.predict_proba(X_test)[:, -1] # para llevarlo a 1-d\n",
    "\n",
    "    print(f\"Informe de clasificación para el modelo {Model} en conjunto de prueba:\")\n",
    "    print(classification_report(y_test, y_pred_test))\n",
    "\n",
    "    accuracy_test = accuracy_score(y_pred_test, y_test)\n",
    "\n",
    "    return metrics_val_df"
   ]
  },
  {
   "cell_type": "code",
   "execution_count": 87,
   "metadata": {},
   "outputs": [
    {
     "name": "stderr",
     "output_type": "stream",
     "text": [
      "c:\\Users\\CBureu\\.virtualenvs\\NEA-jRDK6KIF\\Lib\\site-packages\\sklearn\\metrics\\_classification.py:1497: UndefinedMetricWarning: Recall is ill-defined and being set to 0.0 in labels with no true samples. Use `zero_division` parameter to control this behavior.\n",
      "  _warn_prf(average, modifier, f\"{metric.capitalize()} is\", len(result))\n"
     ]
    },
    {
     "name": "stdout",
     "output_type": "stream",
     "text": [
      "Informe de clasificación para el modelo logistic en conjunto de prueba:\n",
      "              precision    recall  f1-score   support\n",
      "\n",
      "           1       0.98      0.93      0.95       144\n",
      "           2       0.93      0.92      0.92       153\n",
      "           3       0.93      0.98      0.95       168\n",
      "         100       0.60      0.60      0.60         5\n",
      "\n",
      "    accuracy                           0.94       470\n",
      "   macro avg       0.86      0.86      0.86       470\n",
      "weighted avg       0.94      0.94      0.94       470\n",
      "\n",
      "Informe de clasificación para el modelo random_forest en conjunto de prueba:\n",
      "              precision    recall  f1-score   support\n",
      "\n",
      "           1       0.99      0.98      0.98       144\n",
      "           2       0.95      0.96      0.96       153\n",
      "           3       0.97      0.99      0.98       168\n",
      "         100       1.00      0.40      0.57         5\n",
      "\n",
      "    accuracy                           0.97       470\n",
      "   macro avg       0.98      0.83      0.87       470\n",
      "weighted avg       0.97      0.97      0.97       470\n",
      "\n",
      "Informe de clasificación para el modelo gradient_boosting en conjunto de prueba:\n",
      "              precision    recall  f1-score   support\n",
      "\n",
      "           1       0.99      0.95      0.97       144\n",
      "           2       0.92      0.95      0.94       153\n",
      "           3       0.97      0.96      0.97       168\n",
      "         100       0.50      0.60      0.55         5\n",
      "\n",
      "    accuracy                           0.95       470\n",
      "   macro avg       0.84      0.87      0.85       470\n",
      "weighted avg       0.95      0.95      0.95       470\n",
      "\n"
     ]
    },
    {
     "name": "stderr",
     "output_type": "stream",
     "text": [
      "c:\\Users\\CBureu\\.virtualenvs\\NEA-jRDK6KIF\\Lib\\site-packages\\sklearn\\metrics\\_classification.py:1497: UndefinedMetricWarning: Recall is ill-defined and being set to 0.0 in labels with no true samples. Use `zero_division` parameter to control this behavior.\n",
      "  _warn_prf(average, modifier, f\"{metric.capitalize()} is\", len(result))\n"
     ]
    },
    {
     "name": "stdout",
     "output_type": "stream",
     "text": [
      "Informe de clasificación para el modelo svm en conjunto de prueba:\n",
      "              precision    recall  f1-score   support\n",
      "\n",
      "           1       0.96      0.94      0.95       144\n",
      "           2       0.93      0.93      0.93       153\n",
      "           3       0.96      0.97      0.96       168\n",
      "         100       0.80      0.80      0.80         5\n",
      "\n",
      "    accuracy                           0.95       470\n",
      "   macro avg       0.91      0.91      0.91       470\n",
      "weighted avg       0.95      0.95      0.95       470\n",
      "\n"
     ]
    },
    {
     "name": "stderr",
     "output_type": "stream",
     "text": [
      "c:\\Users\\CBureu\\.virtualenvs\\NEA-jRDK6KIF\\Lib\\site-packages\\sklearn\\metrics\\_classification.py:1497: UndefinedMetricWarning: Recall is ill-defined and being set to 0.0 in labels with no true samples. Use `zero_division` parameter to control this behavior.\n",
      "  _warn_prf(average, modifier, f\"{metric.capitalize()} is\", len(result))\n"
     ]
    },
    {
     "name": "stdout",
     "output_type": "stream",
     "text": [
      "Informe de clasificación para el modelo knn en conjunto de prueba:\n",
      "              precision    recall  f1-score   support\n",
      "\n",
      "           1       0.92      0.88      0.90       144\n",
      "           2       0.81      0.84      0.82       153\n",
      "           3       0.90      0.93      0.91       168\n",
      "         100       1.00      0.20      0.33         5\n",
      "\n",
      "    accuracy                           0.87       470\n",
      "   macro avg       0.91      0.71      0.74       470\n",
      "weighted avg       0.88      0.87      0.87       470\n",
      "\n",
      "Informe de clasificación para el modelo decision_tree_classifier en conjunto de prueba:\n",
      "              precision    recall  f1-score   support\n",
      "\n",
      "           1       0.97      0.90      0.94       144\n",
      "           2       0.87      0.92      0.90       153\n",
      "           3       0.95      0.95      0.95       168\n",
      "         100       0.67      0.80      0.73         5\n",
      "\n",
      "    accuracy                           0.92       470\n",
      "   macro avg       0.86      0.89      0.88       470\n",
      "weighted avg       0.93      0.92      0.92       470\n",
      "\n",
      "                     Modelo  Scale  Accuracy  Precision    Recall        F1\n",
      "0                  logistic   True  0.946809   0.957098  0.946809  0.951913\n",
      "1             random_forest   True  0.978723   0.981479  0.978723  0.979595\n",
      "2         gradient_boosting   True  0.973404   0.976115  0.973404  0.974132\n",
      "3                       svm   True  0.936170   0.946080  0.936170  0.940726\n",
      "4                       knn   True  0.930851   0.940654  0.930851  0.935633\n",
      "5  decision_tree_classifier   True  0.946809   0.957733  0.946809  0.951974\n"
     ]
    },
    {
     "name": "stderr",
     "output_type": "stream",
     "text": [
      "c:\\Users\\CBureu\\.virtualenvs\\NEA-jRDK6KIF\\Lib\\site-packages\\sklearn\\metrics\\_classification.py:1497: UndefinedMetricWarning: Recall is ill-defined and being set to 0.0 in labels with no true samples. Use `zero_division` parameter to control this behavior.\n",
      "  _warn_prf(average, modifier, f\"{metric.capitalize()} is\", len(result))\n"
     ]
    }
   ],
   "source": [
    "df_result = pd.DataFrame()\n",
    "\n",
    "df_result = pd.concat([df_result, evaluate_classification_model(X_train, y_train, X_val, y_val, X_test, y_test, Scale=True, Model='logistic')], ignore_index=True)\n",
    "df_result = pd.concat([df_result, evaluate_classification_model(X_train, y_train, X_val, y_val, X_test, y_test, Scale=True, Model='random_forest')], ignore_index=True)\n",
    "df_result = pd.concat([df_result, evaluate_classification_model(X_train, y_train, X_val, y_val, X_test, y_test, Scale=True, Model='gradient_boosting')], ignore_index=True)\n",
    "df_result = pd.concat([df_result, evaluate_classification_model(X_train, y_train, X_val, y_val, X_test, y_test, Scale=True, Model='svm')], ignore_index=True)\n",
    "df_result = pd.concat([df_result, evaluate_classification_model(X_train, y_train, X_val, y_val, X_test, y_test, Scale=True, Model='knn')], ignore_index=True)\n",
    "df_result = pd.concat([df_result, evaluate_classification_model(X_train, y_train, X_val, y_val, X_test, y_test, Scale=True, Model='decision_tree_classifier')], ignore_index=True)\n",
    "\n",
    "print(df_result)"
   ]
  },
  {
   "cell_type": "code",
   "execution_count": 88,
   "metadata": {},
   "outputs": [
    {
     "name": "stdout",
     "output_type": "stream",
     "text": [
      "Accuracy: 0.9787234042553191\n",
      "Precision: 0.9788798940809571\n",
      "Recall: 0.9787234042553191\n",
      "F1 Score: 0.9778520674506777\n"
     ]
    },
    {
     "data": {
      "image/png": "[encoded data removed]",
      "text/plain": [
       "<Figure size 640x480 with 1 Axes>"
      ]
     },
     "metadata": {},
     "output_type": "display_data"
    }
   ],
   "source": [
    "# Crear e entrenar el modelo RandomForestClassifier\n",
    "model = RandomForestClassifier(criterion='entropy', max_depth=None, min_samples_split=2, min_samples_leaf=1, random_state=42)\n",
    "model.fit(X_train, y_train)\n",
    "\n",
    "pickle.dump(model, open('model.pkl', 'wb')) #save\n",
    " \n",
    "# Predecir en los conjuntos de validación y prueba\n",
    "y_pred_val = model.predict(X_val)\n",
    "y_pred_test = model.predict(X_test)\n",
    "\n",
    "# Calcular métricas de evaluación\n",
    "accuracy_val = accuracy_score(y_val, y_pred_val)\n",
    "precision_val = precision_score(y_val, y_pred_val, average='weighted')  # Para problemas multiclase, usa 'weighted'\n",
    "recall_val = recall_score(y_val, y_pred_val, average='weighted')  # Para problemas multiclase, usa 'weighted'\n",
    "f1_val = f1_score(y_val, y_pred_val, average='weighted')  # Para problemas multiclase, usa 'weighted'\n",
    "\n",
    "# Calcular la probabilidad del modelo\n",
    "if hasattr(model, 'decision_function'):\n",
    "    scores = model.decision_function(X_test)\n",
    "else:\n",
    "    scores = model.predict_proba(X_test)[:, 1] \n",
    "\n",
    "# Realizar la curva ROC\n",
    "fpr_total, tpr_total, _ = roc_curve(y_true=y_test, y_score=scores, pos_label=1)  \n",
    "roc_auc = auc(fpr_total, tpr_total)\n",
    "\n",
    "# Ploteamos la curva ROC\n",
    "plt.plot(fpr_total, tpr_total, label=f\"Modelo (AUC = {roc_auc:.2f})\")\n",
    "plt.xlim([-0.01, 1.01])\n",
    "plt.ylim([-0.01, 1.01])\n",
    "plt.xlabel(\"Tasa de falsos positivos\")\n",
    "plt.ylabel(\"Tasa de verdaderos positivos\")\n",
    "plt.legend()\n",
    "\n",
    "# Mostrar métricas\n",
    "print(f\"Accuracy: {accuracy_val}\")\n",
    "print(f\"Precision: {precision_val}\")\n",
    "print(f\"Recall: {recall_val}\")\n",
    "print(f\"F1 Score: {f1_val}\")\n",
    "\n",
    "# Mostrar la curva ROC\n",
    "plt.show()\n"
   ]
  },
  {
   "cell_type": "code",
   "execution_count": 89,
   "metadata": {},
   "outputs": [
    {
     "data": {
      "image/png": "[encoded data removed]",
      "text/plain": [
       "<Figure size 500x500 with 2 Axes>"
      ]
     },
     "metadata": {},
     "output_type": "display_data"
    }
   ],
   "source": [
    "cm = confusion_matrix(y_test, y_pred_test)\n",
    "disp = ConfusionMatrixDisplay(confusion_matrix=cm)\n",
    "\n",
    "fig, ax = plt.subplots(figsize=(5,5))\n",
    "ax.grid(False)\n",
    "disp.plot(ax=ax);"
   ]
  }
 ],
 "metadata": {
  "kernelspec": {
   "display_name": "NEA-jRDK6KIF",
   "language": "python",
   "name": "python3"
  },
  "language_info": {
   "codemirror_mode": {
    "name": "ipython",
    "version": 3
   },
   "file_extension": ".py",
   "mimetype": "text/x-python",
   "name": "python",
   "nbconvert_exporter": "python",
   "pygments_lexer": "ipython3",
   "version": "3.11.5"
  }
 },
 "nbformat": 4,
 "nbformat_minor": 2
}
