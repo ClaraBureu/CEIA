{
 "cells": [
  {
   "cell_type": "code",
   "execution_count": 79,
   "metadata": {},
   "outputs": [],
   "source": [
    "import re\n",
    "import datetime\n",
    "import pandas as pd\n",
    "import json\n",
    "from osisoft.pidevclub.piwebapi.pi_web_api_client import PIWebApiClient\n",
    "from pandasgui import show\n",
    "import matplotlib.pyplot as plt\n",
    "import seaborn as sns\n",
    "import plotly.express as px\n",
    "import os\n",
    "from sklearn.model_selection import train_test_split\n",
    "import scipy.stats as stats\n",
    "from sklearn.ensemble import RandomForestClassifier\n",
    "from sklearn.preprocessing import StandardScaler\n",
    "import numpy as np\n",
    "from sklearn.preprocessing import StandardScaler\n",
    "from sklearn.metrics import accuracy_score, precision_score, recall_score, f1_score\n",
    "from sklearn.metrics import roc_auc_score, auc, roc_curve\n",
    "from sklearn.metrics import confusion_matrix, classification_report\n",
    "from sklearn.metrics import ConfusionMatrixDisplay, RocCurveDisplay\n",
    "from sklearn.decomposition import PCA\n",
    "from sklearn.linear_model import LogisticRegressionCV, LogisticRegression\n",
    "from sklearn.ensemble import RandomForestClassifier, GradientBoostingClassifier\n",
    "from sklearn.svm import SVC\n",
    "from sklearn.neighbors import KNeighborsClassifier\n",
    "from sklearn.tree import DecisionTreeClassifier\n",
    "import pickle"
   ]
  },
  {
   "cell_type": "code",
   "execution_count": 53,
   "metadata": {},
   "outputs": [],
   "source": [
    "df_nea_hora_con_ratios = pd.read_csv('df_nea_hora_con_ratios.csv')"
   ]
  },
  {
   "cell_type": "code",
   "execution_count": 54,
   "metadata": {},
   "outputs": [],
   "source": [
    "df_nea_hora_con_ratios.set_index('Timestamp', inplace=True)"
   ]
  },
  {
   "cell_type": "code",
   "execution_count": 56,
   "metadata": {},
   "outputs": [
    {
     "name": "stdout",
     "output_type": "stream",
     "text": [
      "Train: 1120\n",
      "Tests: 312\n",
      "Validation: 125\n"
     ]
    }
   ],
   "source": [
    "y = df_nea_hora_con_ratios['Colapso'].dropna()  # Drop rows with NaN values in the target variable\n",
    "\n",
    "# Drop corresponding rows in the feature matrix\n",
    "X = df_nea_hora_con_ratios.drop(['Colapso'], axis=1).loc[y.index]\n",
    "\n",
    "X_train, X_test, y_train, y_test = train_test_split(X, y, test_size=0.2, shuffle=True, stratify=df_nea_hora_con_ratios['Colapso'])\n",
    "\n",
    "X_train, X_val, y_train, y_val = train_test_split(X_train, y_train, test_size= 0.1, shuffle=True, stratify=y_train)\n",
    "\n",
    "print(\"Train:\", len(X_train))\n",
    "print(\"Tests:\", len(X_test))\n",
    "print(\"Validation:\", len(X_val))"
   ]
  },
  {
   "cell_type": "code",
   "execution_count": 57,
   "metadata": {},
   "outputs": [],
   "source": [
    "X_train.replace([np.inf, -np.inf], np.nan, inplace=True)\n",
    "X_train.fillna(0, inplace=True)\n",
    "\n",
    "X_test.replace([np.inf, -np.inf], np.nan, inplace=True)\n",
    "X_test.fillna(0, inplace=True)\n",
    "\n",
    "X_val.replace([np.inf, -np.inf], np.nan, inplace=True)\n",
    "X_val.fillna(0, inplace=True)"
   ]
  },
  {
   "cell_type": "code",
   "execution_count": 65,
   "metadata": {},
   "outputs": [],
   "source": [
    "def evaluate_classification_model(X_train, y_train, X_val, y_val, X_test, y_test, Scale=False, Model='logistic'):\n",
    "    if Scale:\n",
    "        scaler = StandardScaler()\n",
    "        X_train = scaler.fit_transform(X_train)\n",
    "        X_val = scaler.transform(X_val)\n",
    "        X_test = scaler.transform(X_test)\n",
    "\n",
    "    if Model == 'logistic':\n",
    "        model = LogisticRegression(max_iter=1000)\n",
    "    elif Model == 'random_forest':\n",
    "        model = RandomForestClassifier(criterion='entropy', max_depth=None, min_samples_split=2, min_samples_leaf=1, random_state=42)\n",
    "    elif Model == 'gradient_boosting':\n",
    "        model = GradientBoostingClassifier()\n",
    "    elif Model == 'svm':\n",
    "        model = SVC(kernel='linear', probability=True)\n",
    "    elif Model == 'knn':  \n",
    "        model = KNeighborsClassifier(n_neighbors=9, metric=\"minkowski\", p=2)\n",
    "    elif Model == 'decision_tree_classifier':  \n",
    "        model = DecisionTreeClassifier(criterion='entropy', splitter='best', max_depth=None, min_samples_split=2, min_samples_leaf=1, random_state=42)\n",
    "    else:\n",
    "        raise ValueError(\"Model type not recognized\")\n",
    "\n",
    "    model.fit(X_train, y_train)\n",
    "    y_pred_val = model.predict(X_val)\n",
    "    y_pred_test = model.predict(X_test)\n",
    "\n",
    "    #sns.histplot(data=y_pred_val)\n",
    "\n",
    "    accuracy_val = accuracy_score(y_pred_val, y_val)\n",
    "    precision_val = precision_score(y_pred_val, y_val, average='weighted')\n",
    "    recall_val = recall_score(y_pred_val, y_val, average='weighted')\n",
    "    f1_val = f1_score(y_pred_val, y_val, average='weighted')\n",
    "\n",
    "    metrics_val_df = pd.DataFrame({\n",
    "        'Modelo': [Model],\n",
    "        'Scale': [Scale],\n",
    "        'Accuracy': [accuracy_val],\n",
    "        'Precision': [precision_val],\n",
    "        'Recall': [recall_val],\n",
    "        'F1': [f1_val]\n",
    "    })\n",
    "\n",
    "    # Calculamos la probabilidad del modelo\n",
    "    prob_total = model.predict_proba(X_test)[:, -1] # para llevarlo a 1-d\n",
    "\n",
    "    print(f\"Informe de clasificación para el modelo {Model} en conjunto de prueba:\")\n",
    "    print(classification_report(y_test, y_pred_test))\n",
    "\n",
    "    accuracy_test = accuracy_score(y_pred_test, y_test)\n",
    "\n",
    "    return metrics_val_df"
   ]
  },
  {
   "cell_type": "code",
   "execution_count": 66,
   "metadata": {},
   "outputs": [
    {
     "name": "stdout",
     "output_type": "stream",
     "text": [
      "Informe de clasificación para el modelo logistic en conjunto de prueba:\n",
      "              precision    recall  f1-score   support\n",
      "\n",
      "           1       0.92      0.97      0.95       153\n",
      "           2       0.97      0.92      0.94       154\n",
      "         100       1.00      0.60      0.75         5\n",
      "\n",
      "    accuracy                           0.94       312\n",
      "   macro avg       0.96      0.83      0.88       312\n",
      "weighted avg       0.94      0.94      0.94       312\n",
      "\n",
      "Informe de clasificación para el modelo random_forest en conjunto de prueba:\n",
      "              precision    recall  f1-score   support\n",
      "\n",
      "           1       0.96      0.99      0.97       153\n",
      "           2       0.98      0.95      0.97       154\n",
      "         100       1.00      0.80      0.89         5\n",
      "\n",
      "    accuracy                           0.97       312\n",
      "   macro avg       0.98      0.91      0.94       312\n",
      "weighted avg       0.97      0.97      0.97       312\n",
      "\n"
     ]
    },
    {
     "name": "stderr",
     "output_type": "stream",
     "text": [
      "c:\\Users\\CBureu\\.virtualenvs\\NEA-jRDK6KIF\\Lib\\site-packages\\sklearn\\metrics\\_classification.py:1497: UndefinedMetricWarning: Recall is ill-defined and being set to 0.0 in labels with no true samples. Use `zero_division` parameter to control this behavior.\n",
      "  _warn_prf(average, modifier, f\"{metric.capitalize()} is\", len(result))\n"
     ]
    },
    {
     "name": "stdout",
     "output_type": "stream",
     "text": [
      "Informe de clasificación para el modelo gradient_boosting en conjunto de prueba:\n",
      "              precision    recall  f1-score   support\n",
      "\n",
      "           1       0.96      0.99      0.97       153\n",
      "           2       0.99      0.95      0.97       154\n",
      "         100       1.00      1.00      1.00         5\n",
      "\n",
      "    accuracy                           0.97       312\n",
      "   macro avg       0.98      0.98      0.98       312\n",
      "weighted avg       0.97      0.97      0.97       312\n",
      "\n",
      "Informe de clasificación para el modelo svm en conjunto de prueba:\n",
      "              precision    recall  f1-score   support\n",
      "\n",
      "           1       0.93      0.97      0.95       153\n",
      "           2       0.97      0.94      0.95       154\n",
      "         100       0.75      0.60      0.67         5\n",
      "\n",
      "    accuracy                           0.95       312\n",
      "   macro avg       0.88      0.83      0.86       312\n",
      "weighted avg       0.95      0.95      0.95       312\n",
      "\n",
      "Informe de clasificación para el modelo knn en conjunto de prueba:\n",
      "              precision    recall  f1-score   support\n",
      "\n",
      "           1       0.88      0.93      0.91       153\n",
      "           2       0.92      0.88      0.90       154\n",
      "         100       1.00      0.20      0.33         5\n",
      "\n",
      "    accuracy                           0.90       312\n",
      "   macro avg       0.93      0.67      0.71       312\n",
      "weighted avg       0.90      0.90      0.89       312\n",
      "\n"
     ]
    },
    {
     "name": "stderr",
     "output_type": "stream",
     "text": [
      "c:\\Users\\CBureu\\.virtualenvs\\NEA-jRDK6KIF\\Lib\\site-packages\\sklearn\\metrics\\_classification.py:1497: UndefinedMetricWarning: Recall is ill-defined and being set to 0.0 in labels with no true samples. Use `zero_division` parameter to control this behavior.\n",
      "  _warn_prf(average, modifier, f\"{metric.capitalize()} is\", len(result))\n"
     ]
    },
    {
     "name": "stdout",
     "output_type": "stream",
     "text": [
      "Informe de clasificación para el modelo decision_tree_classifier en conjunto de prueba:\n",
      "              precision    recall  f1-score   support\n",
      "\n",
      "           1       0.92      0.96      0.94       153\n",
      "           2       0.97      0.92      0.94       154\n",
      "         100       0.57      0.80      0.67         5\n",
      "\n",
      "    accuracy                           0.94       312\n",
      "   macro avg       0.82      0.89      0.85       312\n",
      "weighted avg       0.94      0.94      0.94       312\n",
      "\n",
      "                     Modelo  Scale  Accuracy  Precision  Recall        F1\n",
      "0                  logistic   True     0.952   0.960400   0.952  0.955794\n",
      "1             random_forest   True     0.960   0.960793   0.960  0.959830\n",
      "2         gradient_boosting   True     0.960   0.976787   0.960  0.967767\n",
      "3                       svm   True     0.936   0.937591   0.936  0.935814\n",
      "4                       knn   True     0.928   0.944677   0.928  0.935311\n",
      "5  decision_tree_classifier   True     0.936   0.937041   0.936  0.933792\n"
     ]
    }
   ],
   "source": [
    "df_result = pd.DataFrame()\n",
    "\n",
    "df_result = pd.concat([df_result, evaluate_classification_model(X_train, y_train, X_val, y_val, X_test, y_test, Scale=True, Model='logistic')], ignore_index=True)\n",
    "df_result = pd.concat([df_result, evaluate_classification_model(X_train, y_train, X_val, y_val, X_test, y_test, Scale=True, Model='random_forest')], ignore_index=True)\n",
    "df_result = pd.concat([df_result, evaluate_classification_model(X_train, y_train, X_val, y_val, X_test, y_test, Scale=True, Model='gradient_boosting')], ignore_index=True)\n",
    "df_result = pd.concat([df_result, evaluate_classification_model(X_train, y_train, X_val, y_val, X_test, y_test, Scale=True, Model='svm')], ignore_index=True)\n",
    "df_result = pd.concat([df_result, evaluate_classification_model(X_train, y_train, X_val, y_val, X_test, y_test, Scale=True, Model='knn')], ignore_index=True)\n",
    "df_result = pd.concat([df_result, evaluate_classification_model(X_train, y_train, X_val, y_val, X_test, y_test, Scale=True, Model='decision_tree_classifier')], ignore_index=True)\n",
    "\n",
    "print(df_result)"
   ]
  },
  {
   "cell_type": "code",
   "execution_count": 80,
   "metadata": {},
   "outputs": [
    {
     "name": "stdout",
     "output_type": "stream",
     "text": [
      "Accuracy: 0.96\n",
      "Precision: 0.9614769230769231\n",
      "Recall: 0.96\n",
      "F1 Score: 0.9601699199364786\n"
     ]
    },
    {
     "data": {
      "image/png": "[encoded data removed]",
      "text/plain": [
       "<Figure size 640x480 with 1 Axes>"
      ]
     },
     "metadata": {},
     "output_type": "display_data"
    }
   ],
   "source": [
    "# Crear e entrenar el modelo RandomForestClassifier\n",
    "model = RandomForestClassifier(criterion='entropy', max_depth=None, min_samples_split=2, min_samples_leaf=1, random_state=42)\n",
    "model.fit(X_train, y_train)\n",
    "\n",
    "pickle.dump(model, open('model.pkl', 'wb')) #save\n",
    " \n",
    "# Predecir en los conjuntos de validación y prueba\n",
    "y_pred_val = model.predict(X_val)\n",
    "y_pred_test = model.predict(X_test)\n",
    "\n",
    "# Calcular métricas de evaluación\n",
    "accuracy_val = accuracy_score(y_val, y_pred_val)\n",
    "precision_val = precision_score(y_val, y_pred_val, average='weighted')  # Para problemas multiclase, usa 'weighted'\n",
    "recall_val = recall_score(y_val, y_pred_val, average='weighted')  # Para problemas multiclase, usa 'weighted'\n",
    "f1_val = f1_score(y_val, y_pred_val, average='weighted')  # Para problemas multiclase, usa 'weighted'\n",
    "\n",
    "# Calcular la probabilidad del modelo\n",
    "if hasattr(model, 'decision_function'):\n",
    "    scores = model.decision_function(X_test)\n",
    "else:\n",
    "    scores = model.predict_proba(X_test)[:, 1] \n",
    "\n",
    "# Realizar la curva ROC\n",
    "fpr_total, tpr_total, _ = roc_curve(y_true=y_test, y_score=scores, pos_label=1)  \n",
    "roc_auc = auc(fpr_total, tpr_total)\n",
    "\n",
    "# Ploteamos la curva ROC\n",
    "plt.plot(fpr_total, tpr_total, label=f\"Modelo (AUC = {roc_auc:.2f})\")\n",
    "plt.xlim([-0.01, 1.01])\n",
    "plt.ylim([-0.01, 1.01])\n",
    "plt.xlabel(\"Tasa de falsos positivos\")\n",
    "plt.ylabel(\"Tasa de verdaderos positivos\")\n",
    "plt.legend()\n",
    "\n",
    "# Mostrar métricas\n",
    "print(f\"Accuracy: {accuracy_val}\")\n",
    "print(f\"Precision: {precision_val}\")\n",
    "print(f\"Recall: {recall_val}\")\n",
    "print(f\"F1 Score: {f1_val}\")\n",
    "\n",
    "# Mostrar la curva ROC\n",
    "plt.show()\n"
   ]
  },
  {
   "cell_type": "code",
   "execution_count": 75,
   "metadata": {},
   "outputs": [
    {
     "data": {
      "image/png": "[encoded data removed]",
      "text/plain": [
       "<Figure size 500x500 with 2 Axes>"
      ]
     },
     "metadata": {},
     "output_type": "display_data"
    }
   ],
   "source": [
    "cm = confusion_matrix(y_test, y_pred_test)\n",
    "disp = ConfusionMatrixDisplay(confusion_matrix=cm)\n",
    "\n",
    "fig, ax = plt.subplots(figsize=(5,5))\n",
    "ax.grid(False)\n",
    "disp.plot(ax=ax);"
   ]
  }
 ],
 "metadata": {
  "kernelspec": {
   "display_name": "NEA-jRDK6KIF",
   "language": "python",
   "name": "python3"
  },
  "language_info": {
   "codemirror_mode": {
    "name": "ipython",
    "version": 3
   },
   "file_extension": ".py",
   "mimetype": "text/x-python",
   "name": "python",
   "nbconvert_exporter": "python",
   "pygments_lexer": "ipython3",
   "version": "3.11.5"
  }
 },
 "nbformat": 4,
 "nbformat_minor": 2
}
