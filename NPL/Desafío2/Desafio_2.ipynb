{
 "cells": [
  {
   "cell_type": "markdown",
   "metadata": {},
   "source": [
    "<img src=\"https://github.com/hernancontigiani/ceia_memorias_especializacion/raw/master/Figures/logoFIUBA.jpg\" width=\"500\" align=\"center\">\n",
    "\n",
    "\n",
    "# Procesamiento de lenguaje natural\n",
    "## Custom embedddings con Gensim\n"
   ]
  },
  {
   "cell_type": "markdown",
   "metadata": {},
   "source": [
    "### Objetivo\n",
    "\n",
    "- Crear sus propios vectores con Gensim basado en lo visto en clase con otro dataset.\n",
    "- Probar términos de interés y explicar similitudes en el espacio de embeddings (sacar conclusiones entre palabras similitudes y diferencias).\n",
    "- Graficarlos.\n",
    "- Obtener conclusiones."
   ]
  },
  {
   "cell_type": "code",
   "execution_count": 2,
   "metadata": {},
   "outputs": [],
   "source": [
    "import pandas as pd\n",
    "import matplotlib.pyplot as plt\n",
    "import seaborn as sns\n",
    "import multiprocessing\n",
    "from gensim.models import Word2Vec"
   ]
  },
  {
   "cell_type": "markdown",
   "metadata": {},
   "source": [
    "### Datos"
   ]
  },
  {
   "cell_type": "code",
   "execution_count": 3,
   "metadata": {},
   "outputs": [
    {
     "name": "stderr",
     "output_type": "stream",
     "text": [
      "C:\\Users\\cbureu\\AppData\\Local\\Temp\\ipykernel_8672\\3786229320.py:1: ParserWarning: Falling back to the 'python' engine because the 'c' engine does not support regex separators (separators > 1 char and different from '\\s+' are interpreted as regex); you can avoid this warning by specifying engine='python'.\n",
      "  df = pd.read_csv('debate_presidencial.txt', sep='/n', header=None)\n"
     ]
    },
    {
     "data": {
      "text/html": [
       "<div>\n",
       "<style scoped>\n",
       "    .dataframe tbody tr th:only-of-type {\n",
       "        vertical-align: middle;\n",
       "    }\n",
       "\n",
       "    .dataframe tbody tr th {\n",
       "        vertical-align: top;\n",
       "    }\n",
       "\n",
       "    .dataframe thead th {\n",
       "        text-align: right;\n",
       "    }\n",
       "</style>\n",
       "<table border=\"1\" class=\"dataframe\">\n",
       "  <thead>\n",
       "    <tr style=\"text-align: right;\">\n",
       "      <th></th>\n",
       "      <th>0</th>\n",
       "    </tr>\n",
       "  </thead>\n",
       "  <tbody>\n",
       "    <tr>\n",
       "      <th>0</th>\n",
       "      <td>TEXTO DEL PRIMER DEBATE PRESIDENCIAL 2023, REA...</td>\n",
       "    </tr>\n",
       "    <tr>\n",
       "      <th>1</th>\n",
       "      <td>CONVENCIONES PROVINCIAL DE FORUM, CON SEDE EN ...</td>\n",
       "    </tr>\n",
       "    <tr>\n",
       "      <th>2</th>\n",
       "      <td>ESTERO, A CARGO DE LA UNIVERSIDAD NACIONAL DE ...</td>\n",
       "    </tr>\n",
       "    <tr>\n",
       "      <th>3</th>\n",
       "      <td>DE 2023.</td>\n",
       "    </tr>\n",
       "    <tr>\n",
       "      <th>4</th>\n",
       "      <td>MODERADOR RODOLFO BARILI - Hola. Buenas noches...</td>\n",
       "    </tr>\n",
       "  </tbody>\n",
       "</table>\n",
       "</div>"
      ],
      "text/plain": [
       "                                                   0\n",
       "0  TEXTO DEL PRIMER DEBATE PRESIDENCIAL 2023, REA...\n",
       "1  CONVENCIONES PROVINCIAL DE FORUM, CON SEDE EN ...\n",
       "2  ESTERO, A CARGO DE LA UNIVERSIDAD NACIONAL DE ...\n",
       "3                                           DE 2023.\n",
       "4  MODERADOR RODOLFO BARILI - Hola. Buenas noches..."
      ]
     },
     "execution_count": 3,
     "metadata": {},
     "output_type": "execute_result"
    }
   ],
   "source": [
    "df = pd.read_csv('debate_presidencial.txt', sep='/n', header=None)\n",
    "df.head()"
   ]
  },
  {
   "cell_type": "code",
   "execution_count": 4,
   "metadata": {},
   "outputs": [
    {
     "name": "stdout",
     "output_type": "stream",
     "text": [
      "Cantidad de documentos: 1145\n"
     ]
    }
   ],
   "source": [
    "print(\"Cantidad de documentos:\", df.shape[0])"
   ]
  },
  {
   "cell_type": "markdown",
   "metadata": {},
   "source": [
    "### 1 - Preprocesamiento"
   ]
  },
  {
   "cell_type": "code",
   "execution_count": 5,
   "metadata": {},
   "outputs": [
    {
     "name": "stderr",
     "output_type": "stream",
     "text": [
      "[nltk_data] Downloading package punkt to\n",
      "[nltk_data]     C:\\Users\\cbureu\\AppData\\Roaming\\nltk_data...\n",
      "[nltk_data]   Package punkt is already up-to-date!\n"
     ]
    }
   ],
   "source": [
    "import nltk\n",
    "from nltk.tokenize import word_tokenize\n",
    "\n",
    "nltk.download('punkt')\n",
    "sentence_tokens = []"
   ]
  },
  {
   "cell_type": "code",
   "execution_count": 6,
   "metadata": {},
   "outputs": [],
   "source": [
    "for _, row in df.iterrows():\n",
    "    tokens = word_tokenize(row[0])\n",
    "    sentence_tokens.append(tokens)"
   ]
  },
  {
   "cell_type": "code",
   "execution_count": 7,
   "metadata": {},
   "outputs": [
    {
     "data": {
      "text/plain": [
       "[['TEXTO',\n",
       "  'DEL',\n",
       "  'PRIMER',\n",
       "  'DEBATE',\n",
       "  'PRESIDENCIAL',\n",
       "  '2023',\n",
       "  ',',\n",
       "  'REALIZADO',\n",
       "  'EN',\n",
       "  'EL',\n",
       "  'CENTRO',\n",
       "  'DE'],\n",
       " ['CONVENCIONES',\n",
       "  'PROVINCIAL',\n",
       "  'DE',\n",
       "  'FORUM',\n",
       "  ',',\n",
       "  'CON',\n",
       "  'SEDE',\n",
       "  'EN',\n",
       "  'LA',\n",
       "  'CIUDAD',\n",
       "  'DE',\n",
       "  'SANTIAGO',\n",
       "  'DEL']]"
      ]
     },
     "execution_count": 7,
     "metadata": {},
     "output_type": "execute_result"
    }
   ],
   "source": [
    "sentence_tokens[:2]"
   ]
  },
  {
   "cell_type": "markdown",
   "metadata": {},
   "source": [
    "### 2 - Crear los vectores (word2vec)"
   ]
  },
  {
   "cell_type": "code",
   "execution_count": 8,
   "metadata": {},
   "outputs": [],
   "source": [
    "from gensim.models.callbacks import CallbackAny2Vec\n",
    "# Durante el entrenamiento gensim por defecto no informa el \"loss\" en cada época\n",
    "# Sobrecargamos el callback para poder tener esta información\n",
    "class callback(CallbackAny2Vec):\n",
    "    \"\"\"\n",
    "    Callback to print loss after each epoch\n",
    "    \"\"\"\n",
    "    def __init__(self):\n",
    "        self.epoch = 0\n",
    "\n",
    "    def on_epoch_end(self, model):\n",
    "        loss = model.get_latest_training_loss()\n",
    "        if self.epoch == 0:\n",
    "            print('Loss after epoch {}: {}'.format(self.epoch, loss))\n",
    "        else:\n",
    "            print('Loss after epoch {}: {}'.format(self.epoch, loss- self.loss_previous_step))\n",
    "        self.epoch += 1\n",
    "        self.loss_previous_step = loss"
   ]
  },
  {
   "cell_type": "code",
   "execution_count": 9,
   "metadata": {},
   "outputs": [
    {
     "name": "stdout",
     "output_type": "stream",
     "text": [
      "Modelo con vocab_size=1000, window_size=2, sg=0, negative=10:\n",
      "Loss: 1078189.25\n",
      "Modelo con vocab_size=1000, window_size=2, sg=0, negative=20:\n",
      "Loss: 1267350.0\n",
      "Modelo con vocab_size=1000, window_size=2, sg=1, negative=10:\n",
      "Loss: 2417797.5\n",
      "Modelo con vocab_size=1000, window_size=2, sg=1, negative=20:\n",
      "Loss: 2726326.75\n",
      "Modelo con vocab_size=1000, window_size=5, sg=0, negative=10:\n",
      "Loss: 1087306.25\n",
      "Modelo con vocab_size=1000, window_size=5, sg=0, negative=20:\n",
      "Loss: 1280357.125\n",
      "Modelo con vocab_size=1000, window_size=5, sg=1, negative=10:\n",
      "Loss: 3857837.0\n",
      "Modelo con vocab_size=1000, window_size=5, sg=1, negative=20:\n",
      "Loss: 4343940.0\n",
      "Modelo con vocab_size=5000, window_size=2, sg=0, negative=10:\n",
      "Loss: 1241031.25\n",
      "Modelo con vocab_size=5000, window_size=2, sg=0, negative=20:\n",
      "Loss: 1448447.375\n",
      "Modelo con vocab_size=5000, window_size=2, sg=1, negative=10:\n",
      "Loss: 2795463.0\n",
      "Modelo con vocab_size=5000, window_size=2, sg=1, negative=20:\n",
      "Loss: 3150270.0\n",
      "Modelo con vocab_size=5000, window_size=5, sg=0, negative=10:\n",
      "Loss: 1255370.125\n",
      "Modelo con vocab_size=5000, window_size=5, sg=0, negative=20:\n",
      "Loss: 1467809.0\n",
      "Modelo con vocab_size=5000, window_size=5, sg=1, negative=10:\n",
      "Loss: 4488156.0\n",
      "Modelo con vocab_size=5000, window_size=5, sg=1, negative=20:\n",
      "Loss: 5043286.0\n"
     ]
    }
   ],
   "source": [
    "# Parámetros a probar\n",
    "vocab_sizes = [1000, 5000]  # Diferentes tamaños de vocabulario\n",
    "window_sizes = [2, 5] # Diferentes tamaños de ventana de contexto\n",
    "best_loss = float('inf')  \n",
    "best_model = None\n",
    "\n",
    "# Entrenamiento del modelo Word2Vec con distintos tamaños de vocabulario y ventana de contexto\n",
    "for vocab_size in vocab_sizes:\n",
    "    for window_size in window_sizes:\n",
    "        for sg_value in [0, 1]:  # Probamos con ambos modelos: CBOW (0) y Skip-gram (1)\n",
    "            for negative_value in [10, 20]:  # Probamos diferentes valores de negative samples\n",
    "                    # Crear y entrenar el modelo Word2Vec con los parámetros especificados\n",
    "                    w2v_model = Word2Vec(min_count=5,    # Frecuencia mínima de palabra para incluirla en el vocabulario\n",
    "                                         window=window_size,       # Tamaño de la ventana de contexto\n",
    "                                         vector_size=300,       # Dimensionalidad de los vectores\n",
    "                                         negative=negative_value,    # Cantidad de negative samples\n",
    "                                         workers=1,      # Si tienes más cores puedes cambiar este valor\n",
    "                                         sg=sg_value)           # Modelo 0: CBOW, 1: Skip-gram\n",
    "                                        \n",
    "                    # Construir el vocabulario\n",
    "                    w2v_model.build_vocab(sentence_tokens[:vocab_size])  # Utilizar un subconjunto del corpus para el tamaño del vocabulario\n",
    "                    \n",
    "                    # Entrenar el modelo\n",
    "                    w2v_model.train(sentence_tokens[:vocab_size],\n",
    "                                    total_examples=w2v_model.corpus_count,\n",
    "                                    epochs=50,  # Número de épocas\n",
    "                                    compute_loss=True)  # Calcular la pérdida\n",
    "                    \n",
    "                    if w2v_model.get_latest_training_loss() < best_loss:\n",
    "                        best_loss = w2v_model.get_latest_training_loss()\n",
    "                        best_model = w2v_model\n",
    "                                    \n",
    "                    # Imprimir los parámetros y la pérdida final\n",
    "                    print(f\"Modelo con vocab_size={vocab_size}, window_size={window_size}, sg={sg_value}, negative={negative_value}:\")\n",
    "                    print(\"Loss:\", w2v_model.get_latest_training_loss())\n"
   ]
  },
  {
   "cell_type": "markdown",
   "metadata": {},
   "source": [
    "Parece que los modelos con menor pérdida final son aquellos con sg=0 (CBOW) en lugar de sg=1 (Skip-gram) y negative=10 en lugar de negative=20"
   ]
  },
  {
   "cell_type": "code",
   "execution_count": 10,
   "metadata": {},
   "outputs": [
    {
     "name": "stdout",
     "output_type": "stream",
     "text": [
      "Cantidad de docs en el corpus: 1000\n"
     ]
    }
   ],
   "source": [
    "\n",
    "# Cantidad de filas/docs encontradas en el corpus\n",
    "print(\"Cantidad de docs en el corpus:\", best_model.corpus_count)"
   ]
  },
  {
   "cell_type": "code",
   "execution_count": 11,
   "metadata": {},
   "outputs": [
    {
     "name": "stdout",
     "output_type": "stream",
     "text": [
      "Cantidad de words distintas en el corpus: 435\n"
     ]
    }
   ],
   "source": [
    "# Cantidad de words encontradas en el corpus\n",
    "print(\"Cantidad de words distintas en el corpus:\", len(best_model.wv.index_to_key))"
   ]
  },
  {
   "cell_type": "markdown",
   "metadata": {},
   "source": [
    "### 4 - Ensayar"
   ]
  },
  {
   "cell_type": "code",
   "execution_count": 12,
   "metadata": {},
   "outputs": [
    {
     "data": {
      "text/plain": [
       "[('responde', 0.8193460702896118),\n",
       " ('preguntar', 0.7511956095695496),\n",
       " ('soy', 0.7002146244049072),\n",
       " ('cuatro', 0.6935486197471619),\n",
       " ('bien', 0.6835799813270569),\n",
       " ('hecho', 0.6759225130081177),\n",
       " ('solicitado', 0.6754158139228821),\n",
       " ('ha', 0.6696041226387024),\n",
       " ('palabra', 0.6640872955322266),\n",
       " ('plantea', 0.6624125838279724)]"
      ]
     },
     "execution_count": 12,
     "metadata": {},
     "output_type": "execute_result"
    }
   ],
   "source": [
    "# Palabras que MÁS se relacionan con...:\n",
    "best_model.wv.most_similar(positive=[\"Milei\"], topn=10)"
   ]
  },
  {
   "cell_type": "code",
   "execution_count": 13,
   "metadata": {},
   "outputs": [
    {
     "data": {
      "text/plain": [
       "[('MYRIAM', 0.9545221924781799),\n",
       " ('JAVIER', 0.9383963346481323),\n",
       " ('BREGMAN', 0.9230508208274841),\n",
       " ('JUAN', 0.9157273769378662),\n",
       " ('PATRICIA', 0.90707927942276),\n",
       " ('Buenas', 0.9054704308509827),\n",
       " ('Muy', 0.9042426347732544),\n",
       " ('MASSA', 0.8734833002090454),\n",
       " ('Sí', 0.8713484406471252),\n",
       " ('noches', 0.8701626062393188)]"
      ]
     },
     "execution_count": 13,
     "metadata": {},
     "output_type": "execute_result"
    }
   ],
   "source": [
    "\n",
    "# Palabras que MÁS se relacionan con...:\n",
    "best_model.wv.most_similar(positive=[\"SERGIO\"], topn=10)"
   ]
  },
  {
   "cell_type": "code",
   "execution_count": 14,
   "metadata": {},
   "outputs": [
    {
     "data": {
      "text/plain": [
       "[('esto', 0.862898051738739),\n",
       " ('tenemos', 0.8383234739303589),\n",
       " ('también', 0.8348739147186279),\n",
       " ('necesita', 0.822354257106781),\n",
       " ('realidad', 0.8131127953529358),\n",
       " ('peor', 0.8106259703636169),\n",
       " ('además', 0.8036535382270813),\n",
       " ('trabajo', 0.8006067872047424),\n",
       " ('otros', 0.7995463609695435),\n",
       " ('argentino', 0.7986412048339844)]"
      ]
     },
     "execution_count": 14,
     "metadata": {},
     "output_type": "execute_result"
    }
   ],
   "source": [
    "# Palabras que MÁS se relacionan con...:\n",
    "best_model.wv.most_similar(positive=[\"Córdoba\"], topn=10)"
   ]
  },
  {
   "cell_type": "code",
   "execution_count": 15,
   "metadata": {},
   "outputs": [
    {
     "data": {
      "text/plain": [
       "[('preguntar', 0.7550298571586609),\n",
       " ('palabra', 0.7540703415870667),\n",
       " ('responde', 0.7343611717224121),\n",
       " ('pregunta', 0.71916663646698),\n",
       " ('exposición', 0.6980674266815186),\n",
       " ('Bregman', 0.6777220964431763),\n",
       " ('hablando', 0.6727942824363708),\n",
       " ('escuchar', 0.6700204610824585),\n",
       " ('pobreza', 0.6635985970497131),\n",
       " ('cinco', 0.6610088348388672)]"
      ]
     },
     "execution_count": 15,
     "metadata": {},
     "output_type": "execute_result"
    }
   ],
   "source": [
    "# Palabras que MÁS se relacionan con...:\n",
    "best_model.wv.most_similar(positive=[\"Bullrich\"], topn=10)"
   ]
  },
  {
   "cell_type": "code",
   "execution_count": 16,
   "metadata": {},
   "outputs": [
    {
     "data": {
      "text/plain": [
       "[('sin', 0.9165001511573792),\n",
       " ('con', 0.9052760004997253),\n",
       " ('puede', 0.889393150806427),\n",
       " ('donde', 0.8716874718666077),\n",
       " ('terminar', 0.8704063892364502),\n",
       " ('Cuando', 0.8638389706611633),\n",
       " ('política', 0.8575689196586609),\n",
       " ('acuerdo', 0.8563706278800964),\n",
       " ('moneda', 0.8481765985488892),\n",
       " ('sino', 0.8458088636398315)]"
      ]
     },
     "execution_count": 16,
     "metadata": {},
     "output_type": "execute_result"
    }
   ],
   "source": [
    "# Palabras que MÁS se relacionan con...:\n",
    "best_model.wv.most_similar(positive=[\"inflación\"], topn=10)"
   ]
  },
  {
   "cell_type": "code",
   "execution_count": 17,
   "metadata": {},
   "outputs": [
    {
     "data": {
      "text/plain": [
       "[('dólar', 0.9640938639640808),\n",
       " ('PBI', 0.9574315547943115),\n",
       " ('Congreso', 0.9529827833175659),\n",
       " ('Monetario', 0.9528132677078247),\n",
       " ('valor', 0.949656069278717),\n",
       " ('deuda', 0.9476145505905151),\n",
       " ('mundo', 0.9453921914100647),\n",
       " ('AMBA', 0.943834125995636),\n",
       " ('actual', 0.9434700608253479),\n",
       " ('mejor', 0.9411595463752747)]"
      ]
     },
     "execution_count": 17,
     "metadata": {},
     "output_type": "execute_result"
    }
   ],
   "source": [
    "# Palabras que MÁS se relacionan con...:\n",
    "best_model.wv.most_similar(positive=[\"FMI\"], topn=10)"
   ]
  },
  {
   "cell_type": "markdown",
   "metadata": {},
   "source": [
    "### 5 - Visualizar agrupación de vectores"
   ]
  },
  {
   "cell_type": "code",
   "execution_count": 18,
   "metadata": {},
   "outputs": [],
   "source": [
    "from sklearn.decomposition import IncrementalPCA    \n",
    "from sklearn.manifold import TSNE                   \n",
    "import numpy as np                                  \n",
    "\n",
    "def reduce_dimensions(model, num_dimensions = 2 ):\n",
    "     \n",
    "    vectors = np.asarray(model.wv.vectors)\n",
    "    labels = np.asarray(model.wv.index_to_key)  \n",
    "\n",
    "    tsne = TSNE(n_components=num_dimensions, random_state=0)\n",
    "    vectors = tsne.fit_transform(vectors)\n",
    "\n",
    "    return vectors, labels"
   ]
  },
  {
   "cell_type": "code",
   "execution_count": 19,
   "metadata": {},
   "outputs": [
    {
     "data": {
      "application/vnd.plotly.v1+json": {
       "config": {
        "plotlyServerURL": "https://plot.ly"
       },
       "data": [
        {
         "hovertemplate": "x=%{x}<br>y=%{y}<br>text=%{text}<extra></extra>",
         "legendgroup": "",
         "marker": {
          "color": "#636efa",
          "symbol": "circle"
         },
         "mode": "markers+text",
         "name": "",
         "orientation": "v",
         "showlegend": false,
         "text": [
          ",",
          ".",
          "de",
          "que",
          "la",
          "a",
          "y",
          "el",
          "los",
          "en",
          "es",
          "un",
          "lo",
          "no",
          "con",
          "-",
          "las",
          "para",
          "del",
          "por",
          "una",
          "se",
          "Y",
          "porque",
          "–",
          "Massa",
          "Argentina",
          "al",
          "?",
          "más",
          "Milei",
          "este",
          "como",
          "todos",
          "hacer",
          "eso",
          "tiene",
          "vamos",
          "réplica",
          "derecho",
          "Bullrich",
          "país",
          "va",
          "gobierno",
          "Sergio",
          "le",
          "son",
          "Patricia",
          "si",
          "hay",
          "Por",
          "su",
          "Javier",
          "nos",
          "pero",
          "qué",
          "RODOLFO",
          "Schiaretti",
          "inflación",
          "tener",
          "La",
          "quiero",
          "LUCILA",
          "TRUJILLO",
          "gracias",
          "ser",
          "tenemos",
          "Juan",
          "está",
          "te",
          "debate",
          "nosotros",
          "educación",
          "RAMALLO",
          "ahora",
          "EVANGELINA",
          "%",
          "ESTEBAN",
          "MIROL",
          "les",
          "En",
          "cuando",
          "pregunta",
          "El",
          "fiscal",
          "siempre",
          "Bregman",
          "Myriam",
          "o",
          "esta",
          "van",
          "usted",
          "hace",
          "me",
          "ustedes",
          "BARILI",
          "todo",
          "decir",
          "sobre",
          "años",
          "derechos",
          "candidatos",
          "primer",
          "Gracias",
          "también",
          "argentinos",
          "sin",
          "estamos",
          "dos",
          "verdad",
          "yo",
          "están",
          "ya",
          "tanto",
          "Córdoba",
          "cada",
          "sus",
          "lugar",
          "No",
          "tiempo",
          "ha",
          "fue",
          "JUAN",
          "BULLRICH",
          "hoy",
          "economía",
          "Estado",
          "SCHIARETTI",
          "cambio",
          "MASSA",
          "SERGIO",
          "JAVIER",
          "déficit",
          "nuestra",
          "Banco",
          "donde",
          "segundos",
          "política",
          "puede",
          "durante",
          "PATRICIA",
          "BREGMAN",
          "parte",
          "cómo",
          "cosas",
          "MILEI",
          "vos",
          "turno",
          "han",
          "él",
          "Si",
          "claro",
          ":",
          "gente",
          "otro",
          "vez",
          "poder",
          "entre",
          "Es",
          "terminar",
          "Yo",
          "tipo",
          "todas",
          "voy",
          "millones",
          "pueden",
          "ver",
          "Central",
          "tienen",
          "muy",
          "además",
          "nuestro",
          "libertad",
          "ni",
          "palabra",
          "45",
          "cinco",
          "ese",
          "Macri",
          "Quiero",
          "uno",
          "esa",
          "historia",
          "viene",
          "tengo",
          "minutos",
          "queremos",
          "Fondo",
          "MYRIAM",
          "año",
          "casta",
          "primero",
          "mucho",
          "importante",
          "candidato",
          "empresas",
          "40",
          "Ministro",
          "Nosotros",
          "otra"
         ],
         "type": "scatter",
         "x": [
          -2.5773916244506836,
          -2.2097036838531494,
          -1.781442403793335,
          -3.096299171447754,
          -2.1735448837280273,
          -2.4401636123657227,
          -2.8388326168060303,
          -0.8917651772499084,
          -1.602659821510315,
          -0.8548387885093689,
          -1.844469666481018,
          -16.046384811401367,
          -3.89076566696167,
          -11.066964149475098,
          -3.6128413677215576,
          16.675622940063477,
          3.1356875896453857,
          -3.043598175048828,
          7.06801176071167,
          -14.635346412658691,
          -2.3987653255462646,
          -6.241227149963379,
          -4.931581497192383,
          -8.290848731994629,
          16.748531341552734,
          8.049939155578613,
          -5.542896747589111,
          1.9531633853912354,
          -9.248832702636719,
          -0.10549319535493851,
          -18.16794204711914,
          18.14963722229004,
          5.328206539154053,
          7.201866626739502,
          -17.571462631225586,
          -8.30666732788086,
          -9.891347885131836,
          -18.002779006958008,
          3.3573715686798096,
          3.516470193862915,
          3.6771719455718994,
          4.296010971069336,
          -11.843252182006836,
          3.647458791732788,
          3.400437116622925,
          -6.830140113830566,
          12.277535438537598,
          6.801342487335205,
          -0.1428845077753067,
          -20.79667091369629,
          -14.708828926086426,
          -3.464036703109741,
          5.75506067276001,
          -13.188763618469238,
          -18.854963302612305,
          -7.358946800231934,
          10.043320655822754,
          4.573976039886475,
          -1.232140302658081,
          -7.308936595916748,
          -11.472417831420898,
          -19.37555503845215,
          10.182160377502441,
          10.199953079223633,
          16.203901290893555,
          -15.501914978027344,
          -8.81028938293457,
          5.006887912750244,
          10.511380195617676,
          -21.10065269470215,
          14.970857620239258,
          -7.219638347625732,
          -16.220632553100586,
          -1.3358752727508545,
          -0.6073111295700073,
          -1.2243393659591675,
          1.791464924812317,
          10.95356559753418,
          11.311868667602539,
          -20.436452865600586,
          0.08185531198978424,
          12.197996139526367,
          11.599762916564941,
          19.31350326538086,
          -1.1154522895812988,
          -6.9402360916137695,
          6.480794429779053,
          7.410171985626221,
          8.82524585723877,
          10.845491409301758,
          -8.816922187805176,
          -9.848730087280273,
          4.774342060089111,
          1.9344202280044556,
          -17.611658096313477,
          9.99373722076416,
          -13.573529243469238,
          -4.89057731628418,
          -16.94601821899414,
          10.259859085083008,
          7.016282558441162,
          22.173921585083008,
          16.060558319091797,
          9.795051574707031,
          2.2703611850738525,
          -7.193988800048828,
          -12.533905982971191,
          -11.121737480163574,
          9.610474586486816,
          7.8155717849731445,
          -12.416666984558105,
          -2.1800103187561035,
          -3.3233776092529297,
          13.44909381866455,
          -2.180830955505371,
          -10.777746200561523,
          -2.7919394969940186,
          -22.361373901367188,
          -15.279044151306152,
          9.403534889221191,
          0.5324041843414307,
          5.461899280548096,
          -14.867101669311523,
          18.013750076293945,
          -13.299874305725098,
          0.49187329411506653,
          10.78596305847168,
          -14.940860748291016,
          -18.068145751953125,
          -24.476064682006836,
          -24.467437744140625,
          10.518552780151367,
          11.771223068237305,
          -0.988556444644928,
          19.64565086364746,
          -5.508687496185303,
          5.914554119110107,
          -11.600890159606934,
          -10.85672378540039,
          9.636697769165039,
          18.008451461791992,
          13.986109733581543,
          10.049735069274902,
          -10.781890869140625,
          15.546304702758789,
          10.530511856079102,
          -4.197477340698242,
          6.157610893249512,
          0.9247755408287048,
          -5.6088762283325195,
          -15.98289680480957,
          -6.724739074707031,
          -4.963439464569092,
          -13.899092674255371,
          5.545024871826172,
          7.364546298980713,
          -10.048242568969727,
          14.037199974060059,
          -2.239788770675659,
          -8.775530815124512,
          -20.760000228881836,
          -18.406553268432617,
          -6.329381942749023,
          -21.15088653564453,
          0.9766021370887756,
          -9.855603218078613,
          13.018094062805176,
          19.64883804321289,
          14.278641700744629,
          1.5539051294326782,
          -2.866940975189209,
          -1.8400465250015259,
          -6.499393463134766,
          -6.562346935272217,
          5.789017677307129,
          5.8723955154418945,
          10.337523460388184,
          2.600600004196167,
          4.4683332443237305,
          2.7245845794677734,
          -10.777581214904785,
          -3.9280190467834473,
          -10.14963436126709,
          9.318432807922363,
          -10.341394424438477,
          3.006667375564575,
          -0.49061426520347595,
          -5.058426856994629,
          13.822065353393555,
          -0.047070711851119995,
          -17.82396125793457,
          -2.4691028594970703,
          -13.709434509277344,
          0.9735466241836548,
          -6.878457546234131,
          2.277876615524292,
          6.418294906616211,
          6.245675086975098,
          -12.353422164916992,
          -3.275639295578003
         ],
         "xaxis": "x",
         "y": [
          3.0061452388763428,
          2.989198923110962,
          3.64823317527771,
          2.4215967655181885,
          1.562968373298645,
          4.1285481452941895,
          3.586798667907715,
          3.663069009780884,
          4.882824897766113,
          2.517468214035034,
          2.2836029529571533,
          -9.651145935058594,
          3.365811824798584,
          -9.83266830444336,
          1.297051191329956,
          14.456233978271484,
          -1.1815524101257324,
          5.553904056549072,
          -9.053189277648926,
          5.173442363739014,
          0.7374208569526672,
          6.173800945281982,
          2.611942768096924,
          6.166479587554932,
          14.460650444030762,
          -13.967280387878418,
          -3.960120439529419,
          -14.92226505279541,
          -15.035204887390137,
          -15.086106300354004,
          -8.665961265563965,
          8.790056228637695,
          3.073029041290283,
          2.9976205825805664,
          3.2762091159820557,
          3.207756519317627,
          -6.575725078582764,
          -6.003005027770996,
          22.571910858154297,
          22.87419891357422,
          15.812745094299316,
          -7.048288345336914,
          -6.406484603881836,
          -13.54659366607666,
          17.02804946899414,
          -11.018129348754883,
          -11.58758544921875,
          17.094409942626953,
          -17.54306411743164,
          -7.782928943634033,
          2.9889140129089355,
          19.827741622924805,
          17.564559936523438,
          -0.46697214245796204,
          6.473536014556885,
          -12.806877136230469,
          12.130171775817871,
          17.536670684814453,
          -13.075614929199219,
          9.7441987991333,
          7.169862747192383,
          -2.312441110610962,
          22.518468856811523,
          22.594560623168945,
          18.512449264526367,
          -7.292456150054932,
          -2.112745761871338,
          15.96164321899414,
          -14.480737686157227,
          -2.152975559234619,
          6.646734237670898,
          -1.6971150636672974,
          -4.2682061195373535,
          16.67549705505371,
          12.708582878112793,
          16.59149169921875,
          -10.788496017456055,
          17.836652755737305,
          17.771406173706055,
          -11.2471923828125,
          5.209393501281738,
          -7.689340114593506,
          19.967615127563477,
          0.271708607673645,
          -21.62082290649414,
          7.769311904907227,
          16.137866973876953,
          15.599823951721191,
          -9.786428451538086,
          6.40338659286499,
          13.129812240600586,
          -12.913165092468262,
          -15.869394302368164,
          6.5145263671875,
          -15.57343578338623,
          12.539390563964844,
          -9.005759239196777,
          6.272531032562256,
          -12.43338394165039,
          -4.749638080596924,
          1.4943768978118896,
          8.77387809753418,
          9.340028762817383,
          13.811779975891113,
          -20.16027069091797,
          4.951515197753906,
          5.196746349334717,
          11.435705184936523,
          2.4430999755859375,
          -16.36334228515625,
          9.020293235778809,
          -15.169926643371582,
          -9.738070487976074,
          -9.418248176574707,
          -3.405992031097412,
          18.12848472595215,
          7.865024089813232,
          -2.086866855621338,
          -1.336572289466858,
          19.50313377380371,
          15.478818893432617,
          -9.041038513183594,
          14.460620880126953,
          -11.93346118927002,
          -18.736774444580078,
          21.819522857666016,
          -9.548269271850586,
          14.464151382446289,
          9.81712818145752,
          -3.8875749111175537,
          -3.8835363388061523,
          -18.274490356445312,
          -2.9883227348327637,
          -4.311092376708984,
          -7.73386812210083,
          -2.5131824016571045,
          21.605260848999023,
          -0.9823501706123352,
          -7.989801406860352,
          8.562240600585938,
          -11.928373336791992,
          -0.6024385690689087,
          -7.448046684265137,
          2.511446952819824,
          -6.475072383880615,
          -18.29012107849121,
          -7.340393543243408,
          14.903435707092285,
          11.471892356872559,
          -15.656675338745117,
          7.033863067626953,
          -4.8635101318359375,
          -5.511926174163818,
          -11.71007251739502,
          -19.25339698791504,
          9.797826766967773,
          -4.7792792320251465,
          -3.6270604133605957,
          12.218464851379395,
          1.2427927255630493,
          -4.643713474273682,
          10.030791282653809,
          13.746113777160645,
          -3.535884380340576,
          -12.769246101379395,
          -18.998321533203125,
          10.872617721557617,
          -7.735002517700195,
          -12.421424865722656,
          -3.864190101623535,
          -11.361398696899414,
          -1.1348899602890015,
          -16.612300872802734,
          -8.856152534484863,
          13.151994705200195,
          21.603748321533203,
          9.799571990966797,
          4.120387554168701,
          -11.40688705444336,
          -16.93693733215332,
          18.121702194213867,
          -0.38805821537971497,
          5.820799350738525,
          -12.118562698364258,
          -2.8468527793884277,
          19.827123641967773,
          0.20299775898456573,
          -19.668107986450195,
          -0.31534337997436523,
          -11.53787612915039,
          0.08157730847597122,
          -8.556370735168457,
          -2.780686855316162,
          -3.5572285652160645,
          17.020204544067383,
          -1.4802093505859375,
          -7.1842756271362305,
          -13.906723976135254,
          1.4103810787200928,
          -12.877961158752441
         ],
         "yaxis": "y"
        }
       ],
       "layout": {
        "legend": {
         "tracegroupgap": 0
        },
        "margin": {
         "t": 60
        },
        "template": {
         "data": {
          "bar": [
           {
            "error_x": {
             "color": "#2a3f5f"
            },
            "error_y": {
             "color": "#2a3f5f"
            },
            "marker": {
             "line": {
              "color": "#E5ECF6",
              "width": 0.5
             },
             "pattern": {
              "fillmode": "overlay",
              "size": 10,
              "solidity": 0.2
             }
            },
            "type": "bar"
           }
          ],
          "barpolar": [
           {
            "marker": {
             "line": {
              "color": "#E5ECF6",
              "width": 0.5
             },
             "pattern": {
              "fillmode": "overlay",
              "size": 10,
              "solidity": 0.2
             }
            },
            "type": "barpolar"
           }
          ],
          "carpet": [
           {
            "aaxis": {
             "endlinecolor": "#2a3f5f",
             "gridcolor": "white",
             "linecolor": "white",
             "minorgridcolor": "white",
             "startlinecolor": "#2a3f5f"
            },
            "baxis": {
             "endlinecolor": "#2a3f5f",
             "gridcolor": "white",
             "linecolor": "white",
             "minorgridcolor": "white",
             "startlinecolor": "#2a3f5f"
            },
            "type": "carpet"
           }
          ],
          "choropleth": [
           {
            "colorbar": {
             "outlinewidth": 0,
             "ticks": ""
            },
            "type": "choropleth"
           }
          ],
          "contour": [
           {
            "colorbar": {
             "outlinewidth": 0,
             "ticks": ""
            },
            "colorscale": [
             [
              0,
              "#0d0887"
             ],
             [
              0.1111111111111111,
              "#46039f"
             ],
             [
              0.2222222222222222,
              "#7201a8"
             ],
             [
              0.3333333333333333,
              "#9c179e"
             ],
             [
              0.4444444444444444,
              "#bd3786"
             ],
             [
              0.5555555555555556,
              "#d8576b"
             ],
             [
              0.6666666666666666,
              "#ed7953"
             ],
             [
              0.7777777777777778,
              "#fb9f3a"
             ],
             [
              0.8888888888888888,
              "#fdca26"
             ],
             [
              1,
              "#f0f921"
             ]
            ],
            "type": "contour"
           }
          ],
          "contourcarpet": [
           {
            "colorbar": {
             "outlinewidth": 0,
             "ticks": ""
            },
            "type": "contourcarpet"
           }
          ],
          "heatmap": [
           {
            "colorbar": {
             "outlinewidth": 0,
             "ticks": ""
            },
            "colorscale": [
             [
              0,
              "#0d0887"
             ],
             [
              0.1111111111111111,
              "#46039f"
             ],
             [
              0.2222222222222222,
              "#7201a8"
             ],
             [
              0.3333333333333333,
              "#9c179e"
             ],
             [
              0.4444444444444444,
              "#bd3786"
             ],
             [
              0.5555555555555556,
              "#d8576b"
             ],
             [
              0.6666666666666666,
              "#ed7953"
             ],
             [
              0.7777777777777778,
              "#fb9f3a"
             ],
             [
              0.8888888888888888,
              "#fdca26"
             ],
             [
              1,
              "#f0f921"
             ]
            ],
            "type": "heatmap"
           }
          ],
          "heatmapgl": [
           {
            "colorbar": {
             "outlinewidth": 0,
             "ticks": ""
            },
            "colorscale": [
             [
              0,
              "#0d0887"
             ],
             [
              0.1111111111111111,
              "#46039f"
             ],
             [
              0.2222222222222222,
              "#7201a8"
             ],
             [
              0.3333333333333333,
              "#9c179e"
             ],
             [
              0.4444444444444444,
              "#bd3786"
             ],
             [
              0.5555555555555556,
              "#d8576b"
             ],
             [
              0.6666666666666666,
              "#ed7953"
             ],
             [
              0.7777777777777778,
              "#fb9f3a"
             ],
             [
              0.8888888888888888,
              "#fdca26"
             ],
             [
              1,
              "#f0f921"
             ]
            ],
            "type": "heatmapgl"
           }
          ],
          "histogram": [
           {
            "marker": {
             "pattern": {
              "fillmode": "overlay",
              "size": 10,
              "solidity": 0.2
             }
            },
            "type": "histogram"
           }
          ],
          "histogram2d": [
           {
            "colorbar": {
             "outlinewidth": 0,
             "ticks": ""
            },
            "colorscale": [
             [
              0,
              "#0d0887"
             ],
             [
              0.1111111111111111,
              "#46039f"
             ],
             [
              0.2222222222222222,
              "#7201a8"
             ],
             [
              0.3333333333333333,
              "#9c179e"
             ],
             [
              0.4444444444444444,
              "#bd3786"
             ],
             [
              0.5555555555555556,
              "#d8576b"
             ],
             [
              0.6666666666666666,
              "#ed7953"
             ],
             [
              0.7777777777777778,
              "#fb9f3a"
             ],
             [
              0.8888888888888888,
              "#fdca26"
             ],
             [
              1,
              "#f0f921"
             ]
            ],
            "type": "histogram2d"
           }
          ],
          "histogram2dcontour": [
           {
            "colorbar": {
             "outlinewidth": 0,
             "ticks": ""
            },
            "colorscale": [
             [
              0,
              "#0d0887"
             ],
             [
              0.1111111111111111,
              "#46039f"
             ],
             [
              0.2222222222222222,
              "#7201a8"
             ],
             [
              0.3333333333333333,
              "#9c179e"
             ],
             [
              0.4444444444444444,
              "#bd3786"
             ],
             [
              0.5555555555555556,
              "#d8576b"
             ],
             [
              0.6666666666666666,
              "#ed7953"
             ],
             [
              0.7777777777777778,
              "#fb9f3a"
             ],
             [
              0.8888888888888888,
              "#fdca26"
             ],
             [
              1,
              "#f0f921"
             ]
            ],
            "type": "histogram2dcontour"
           }
          ],
          "mesh3d": [
           {
            "colorbar": {
             "outlinewidth": 0,
             "ticks": ""
            },
            "type": "mesh3d"
           }
          ],
          "parcoords": [
           {
            "line": {
             "colorbar": {
              "outlinewidth": 0,
              "ticks": ""
             }
            },
            "type": "parcoords"
           }
          ],
          "pie": [
           {
            "automargin": true,
            "type": "pie"
           }
          ],
          "scatter": [
           {
            "fillpattern": {
             "fillmode": "overlay",
             "size": 10,
             "solidity": 0.2
            },
            "type": "scatter"
           }
          ],
          "scatter3d": [
           {
            "line": {
             "colorbar": {
              "outlinewidth": 0,
              "ticks": ""
             }
            },
            "marker": {
             "colorbar": {
              "outlinewidth": 0,
              "ticks": ""
             }
            },
            "type": "scatter3d"
           }
          ],
          "scattercarpet": [
           {
            "marker": {
             "colorbar": {
              "outlinewidth": 0,
              "ticks": ""
             }
            },
            "type": "scattercarpet"
           }
          ],
          "scattergeo": [
           {
            "marker": {
             "colorbar": {
              "outlinewidth": 0,
              "ticks": ""
             }
            },
            "type": "scattergeo"
           }
          ],
          "scattergl": [
           {
            "marker": {
             "colorbar": {
              "outlinewidth": 0,
              "ticks": ""
             }
            },
            "type": "scattergl"
           }
          ],
          "scattermapbox": [
           {
            "marker": {
             "colorbar": {
              "outlinewidth": 0,
              "ticks": ""
             }
            },
            "type": "scattermapbox"
           }
          ],
          "scatterpolar": [
           {
            "marker": {
             "colorbar": {
              "outlinewidth": 0,
              "ticks": ""
             }
            },
            "type": "scatterpolar"
           }
          ],
          "scatterpolargl": [
           {
            "marker": {
             "colorbar": {
              "outlinewidth": 0,
              "ticks": ""
             }
            },
            "type": "scatterpolargl"
           }
          ],
          "scatterternary": [
           {
            "marker": {
             "colorbar": {
              "outlinewidth": 0,
              "ticks": ""
             }
            },
            "type": "scatterternary"
           }
          ],
          "surface": [
           {
            "colorbar": {
             "outlinewidth": 0,
             "ticks": ""
            },
            "colorscale": [
             [
              0,
              "#0d0887"
             ],
             [
              0.1111111111111111,
              "#46039f"
             ],
             [
              0.2222222222222222,
              "#7201a8"
             ],
             [
              0.3333333333333333,
              "#9c179e"
             ],
             [
              0.4444444444444444,
              "#bd3786"
             ],
             [
              0.5555555555555556,
              "#d8576b"
             ],
             [
              0.6666666666666666,
              "#ed7953"
             ],
             [
              0.7777777777777778,
              "#fb9f3a"
             ],
             [
              0.8888888888888888,
              "#fdca26"
             ],
             [
              1,
              "#f0f921"
             ]
            ],
            "type": "surface"
           }
          ],
          "table": [
           {
            "cells": {
             "fill": {
              "color": "#EBF0F8"
             },
             "line": {
              "color": "white"
             }
            },
            "header": {
             "fill": {
              "color": "#C8D4E3"
             },
             "line": {
              "color": "white"
             }
            },
            "type": "table"
           }
          ]
         },
         "layout": {
          "annotationdefaults": {
           "arrowcolor": "#2a3f5f",
           "arrowhead": 0,
           "arrowwidth": 1
          },
          "autotypenumbers": "strict",
          "coloraxis": {
           "colorbar": {
            "outlinewidth": 0,
            "ticks": ""
           }
          },
          "colorscale": {
           "diverging": [
            [
             0,
             "#8e0152"
            ],
            [
             0.1,
             "#c51b7d"
            ],
            [
             0.2,
             "#de77ae"
            ],
            [
             0.3,
             "#f1b6da"
            ],
            [
             0.4,
             "#fde0ef"
            ],
            [
             0.5,
             "#f7f7f7"
            ],
            [
             0.6,
             "#e6f5d0"
            ],
            [
             0.7,
             "#b8e186"
            ],
            [
             0.8,
             "#7fbc41"
            ],
            [
             0.9,
             "#4d9221"
            ],
            [
             1,
             "#276419"
            ]
           ],
           "sequential": [
            [
             0,
             "#0d0887"
            ],
            [
             0.1111111111111111,
             "#46039f"
            ],
            [
             0.2222222222222222,
             "#7201a8"
            ],
            [
             0.3333333333333333,
             "#9c179e"
            ],
            [
             0.4444444444444444,
             "#bd3786"
            ],
            [
             0.5555555555555556,
             "#d8576b"
            ],
            [
             0.6666666666666666,
             "#ed7953"
            ],
            [
             0.7777777777777778,
             "#fb9f3a"
            ],
            [
             0.8888888888888888,
             "#fdca26"
            ],
            [
             1,
             "#f0f921"
            ]
           ],
           "sequentialminus": [
            [
             0,
             "#0d0887"
            ],
            [
             0.1111111111111111,
             "#46039f"
            ],
            [
             0.2222222222222222,
             "#7201a8"
            ],
            [
             0.3333333333333333,
             "#9c179e"
            ],
            [
             0.4444444444444444,
             "#bd3786"
            ],
            [
             0.5555555555555556,
             "#d8576b"
            ],
            [
             0.6666666666666666,
             "#ed7953"
            ],
            [
             0.7777777777777778,
             "#fb9f3a"
            ],
            [
             0.8888888888888888,
             "#fdca26"
            ],
            [
             1,
             "#f0f921"
            ]
           ]
          },
          "colorway": [
           "#636efa",
           "#EF553B",
           "#00cc96",
           "#ab63fa",
           "#FFA15A",
           "#19d3f3",
           "#FF6692",
           "#B6E880",
           "#FF97FF",
           "#FECB52"
          ],
          "font": {
           "color": "#2a3f5f"
          },
          "geo": {
           "bgcolor": "white",
           "lakecolor": "white",
           "landcolor": "#E5ECF6",
           "showlakes": true,
           "showland": true,
           "subunitcolor": "white"
          },
          "hoverlabel": {
           "align": "left"
          },
          "hovermode": "closest",
          "mapbox": {
           "style": "light"
          },
          "paper_bgcolor": "white",
          "plot_bgcolor": "#E5ECF6",
          "polar": {
           "angularaxis": {
            "gridcolor": "white",
            "linecolor": "white",
            "ticks": ""
           },
           "bgcolor": "#E5ECF6",
           "radialaxis": {
            "gridcolor": "white",
            "linecolor": "white",
            "ticks": ""
           }
          },
          "scene": {
           "xaxis": {
            "backgroundcolor": "#E5ECF6",
            "gridcolor": "white",
            "gridwidth": 2,
            "linecolor": "white",
            "showbackground": true,
            "ticks": "",
            "zerolinecolor": "white"
           },
           "yaxis": {
            "backgroundcolor": "#E5ECF6",
            "gridcolor": "white",
            "gridwidth": 2,
            "linecolor": "white",
            "showbackground": true,
            "ticks": "",
            "zerolinecolor": "white"
           },
           "zaxis": {
            "backgroundcolor": "#E5ECF6",
            "gridcolor": "white",
            "gridwidth": 2,
            "linecolor": "white",
            "showbackground": true,
            "ticks": "",
            "zerolinecolor": "white"
           }
          },
          "shapedefaults": {
           "line": {
            "color": "#2a3f5f"
           }
          },
          "ternary": {
           "aaxis": {
            "gridcolor": "white",
            "linecolor": "white",
            "ticks": ""
           },
           "baxis": {
            "gridcolor": "white",
            "linecolor": "white",
            "ticks": ""
           },
           "bgcolor": "#E5ECF6",
           "caxis": {
            "gridcolor": "white",
            "linecolor": "white",
            "ticks": ""
           }
          },
          "title": {
           "x": 0.05
          },
          "xaxis": {
           "automargin": true,
           "gridcolor": "white",
           "linecolor": "white",
           "ticks": "",
           "title": {
            "standoff": 15
           },
           "zerolinecolor": "white",
           "zerolinewidth": 2
          },
          "yaxis": {
           "automargin": true,
           "gridcolor": "white",
           "linecolor": "white",
           "ticks": "",
           "title": {
            "standoff": 15
           },
           "zerolinecolor": "white",
           "zerolinewidth": 2
          }
         }
        },
        "xaxis": {
         "anchor": "y",
         "domain": [
          0,
          1
         ],
         "title": {
          "text": "x"
         }
        },
        "yaxis": {
         "anchor": "x",
         "domain": [
          0,
          1
         ],
         "title": {
          "text": "y"
         }
        }
       }
      }
     },
     "metadata": {},
     "output_type": "display_data"
    }
   ],
   "source": [
    "# Graficar los embedddings en 2D\n",
    "import plotly.graph_objects as go\n",
    "import plotly.express as px\n",
    "\n",
    "vecs, labels = reduce_dimensions(w2v_model)\n",
    "\n",
    "MAX_WORDS=200\n",
    "fig = px.scatter(x=vecs[:MAX_WORDS,0], y=vecs[:MAX_WORDS,1], text=labels[:MAX_WORDS])\n",
    "fig.show() # esto para plotly en colab"
   ]
  },
  {
   "cell_type": "code",
   "execution_count": 20,
   "metadata": {},
   "outputs": [
    {
     "data": {
      "application/vnd.plotly.v1+json": {
       "config": {
        "plotlyServerURL": "https://plot.ly"
       },
       "data": [
        {
         "hovertemplate": "x=%{x}<br>y=%{y}<br>z=%{z}<br>text=%{text}<extra></extra>",
         "legendgroup": "",
         "marker": {
          "color": "#636efa",
          "size": 2,
          "symbol": "circle"
         },
         "mode": "markers+text",
         "name": "",
         "scene": "scene",
         "showlegend": false,
         "text": [
          ",",
          ".",
          "de",
          "que",
          "la",
          "a",
          "y",
          "el",
          "los",
          "en",
          "es",
          "un",
          "lo",
          "no",
          "con",
          "-",
          "las",
          "para",
          "del",
          "por",
          "una",
          "se",
          "Y",
          "porque",
          "–",
          "Massa",
          "Argentina",
          "al",
          "?",
          "más",
          "Milei",
          "este",
          "como",
          "todos",
          "hacer",
          "eso",
          "tiene",
          "vamos",
          "réplica",
          "derecho",
          "Bullrich",
          "país",
          "va",
          "gobierno",
          "Sergio",
          "le",
          "son",
          "Patricia",
          "si",
          "hay",
          "Por",
          "su",
          "Javier",
          "nos",
          "pero",
          "qué",
          "RODOLFO",
          "Schiaretti",
          "inflación",
          "tener",
          "La",
          "quiero",
          "LUCILA",
          "TRUJILLO",
          "gracias",
          "ser",
          "tenemos",
          "Juan",
          "está",
          "te",
          "debate",
          "nosotros",
          "educación",
          "RAMALLO",
          "ahora",
          "EVANGELINA",
          "%",
          "ESTEBAN",
          "MIROL",
          "les",
          "En",
          "cuando",
          "pregunta",
          "El",
          "fiscal",
          "siempre",
          "Bregman",
          "Myriam",
          "o",
          "esta",
          "van",
          "usted",
          "hace",
          "me",
          "ustedes",
          "BARILI",
          "todo",
          "decir",
          "sobre",
          "años",
          "derechos",
          "candidatos",
          "primer",
          "Gracias",
          "también",
          "argentinos",
          "sin",
          "estamos",
          "dos",
          "verdad",
          "yo",
          "están",
          "ya",
          "tanto",
          "Córdoba",
          "cada",
          "sus",
          "lugar",
          "No",
          "tiempo",
          "ha",
          "fue",
          "JUAN",
          "BULLRICH",
          "hoy",
          "economía",
          "Estado",
          "SCHIARETTI",
          "cambio",
          "MASSA",
          "SERGIO",
          "JAVIER",
          "déficit",
          "nuestra",
          "Banco",
          "donde",
          "segundos",
          "política",
          "puede",
          "durante",
          "PATRICIA",
          "BREGMAN",
          "parte",
          "cómo",
          "cosas",
          "MILEI",
          "vos",
          "turno",
          "han",
          "él",
          "Si",
          "claro",
          ":",
          "gente",
          "otro",
          "vez",
          "poder",
          "entre",
          "Es",
          "terminar",
          "Yo",
          "tipo",
          "todas",
          "voy",
          "millones",
          "pueden",
          "ver",
          "Central",
          "tienen",
          "muy",
          "además",
          "nuestro",
          "libertad",
          "ni",
          "palabra",
          "45",
          "cinco",
          "ese",
          "Macri",
          "Quiero",
          "uno",
          "esa",
          "historia",
          "viene",
          "tengo",
          "minutos",
          "queremos",
          "Fondo",
          "MYRIAM",
          "año",
          "casta",
          "primero",
          "mucho",
          "importante",
          "candidato",
          "empresas",
          "40",
          "Ministro",
          "Nosotros",
          "otra"
         ],
         "type": "scatter3d",
         "x": [
          -15.390247344970703,
          -9.249547958374023,
          -5.742060661315918,
          -22.37921905517578,
          -4.35678768157959,
          -14.68932819366455,
          -13.021432876586914,
          -1.021266222000122,
          3.5079119205474854,
          0.6194308996200562,
          -15.552750587463379,
          -20.25619888305664,
          -30.477516174316406,
          -31.10932731628418,
          -27.737621307373047,
          49.635658264160156,
          -31.694921493530273,
          -24.769737243652344,
          -0.15930040180683136,
          -22.52255630493164,
          -19.176372528076172,
          -26.267484664916992,
          0.8531357049942017,
          42.82749557495117,
          49.81970977783203,
          -19.07084846496582,
          -40.011962890625,
          -45.15042495727539,
          -62.38248062133789,
          -61.580989837646484,
          14.254058837890625,
          26.530990600585938,
          -72.58592987060547,
          37.05674362182617,
          -21.149993896484375,
          -10.258461952209473,
          -22.70730209350586,
          41.39894485473633,
          37.72884750366211,
          43.29017639160156,
          9.337510108947754,
          -27.583351135253906,
          -50.929443359375,
          -36.53378677368164,
          0.31179049611091614,
          -26.396970748901367,
          -27.470624923706055,
          22.484291076660156,
          -31.148876190185547,
          -16.41587257385254,
          15.308148384094238,
          -1.40431809425354,
          21.841264724731445,
          -56.395912170410156,
          -46.37501525878906,
          -41.82292556762695,
          64.89453887939453,
          10.329858779907227,
          -30.00861930847168,
          19.51902961730957,
          -74.7862319946289,
          -52.64183044433594,
          43.544517517089844,
          43.47697830200195,
          52.832305908203125,
          22.161867141723633,
          5.708114147186279,
          14.470667839050293,
          -32.49177169799805,
          -65.28958892822266,
          46.907554626464844,
          17.08272361755371,
          34.79847717285156,
          31.786216735839844,
          0.17316316068172455,
          24.37450408935547,
          -41.65574645996094,
          12.23273754119873,
          18.050594329833984,
          32.421974182128906,
          -14.128876686096191,
          27.737205505371094,
          40.106605529785156,
          43.71006393432617,
          -8.242085456848145,
          4.133531093597412,
          26.59413719177246,
          34.8321533203125,
          -7.329021453857422,
          47.36339569091797,
          -21.328203201293945,
          -56.78845977783203,
          -57.58919906616211,
          65.37954711914062,
          -1.5916732549667358,
          56.679378509521484,
          9.638480186462402,
          -15.914283752441406,
          -37.92792892456055,
          34.790897369384766,
          38.95820236206055,
          73.76509857177734,
          50.76178741455078,
          53.802528381347656,
          0.6284449696540833,
          12.50710678100586,
          -33.13125991821289,
          39.554779052734375,
          57.78010559082031,
          4.865462303161621,
          -1.3547954559326172,
          0.3697170317173004,
          -41.6614875793457,
          21.77226448059082,
          10.578866004943848,
          17.588926315307617,
          -77.46163940429688,
          -55.11485290527344,
          -23.645296096801758,
          27.362974166870117,
          18.359905242919922,
          15.017287254333496,
          62.1619758605957,
          69.48494720458984,
          -3.92558217048645,
          14.292803764343262,
          -47.98812484741211,
          59.931217193603516,
          6.24778938293457,
          -58.68698501586914,
          -64.39190673828125,
          -37.48385238647461,
          38.00770568847656,
          -41.408599853515625,
          -17.226268768310547,
          -59.289371490478516,
          0.9534854292869568,
          15.110992431640625,
          -5.956131935119629,
          23.23198699951172,
          62.06404113769531,
          55.39033126831055,
          14.742396354675293,
          8.681280136108398,
          -0.9453525543212891,
          -36.220497131347656,
          -35.77423095703125,
          25.562381744384766,
          10.125097274780273,
          -57.438873291015625,
          13.035567283630371,
          -39.93437957763672,
          -30.086122512817383,
          31.50445556640625,
          -64.67786407470703,
          20.628652572631836,
          0.09414505213499069,
          24.149229049682617,
          -12.448012351989746,
          6.721576690673828,
          -65.78643035888672,
          -0.12831886112689972,
          -10.039338111877441,
          -54.292701721191406,
          -37.66392135620117,
          -1.4270635843276978,
          -5.396270751953125,
          -19.407567977905273,
          -14.834786415100098,
          -31.753602981567383,
          -31.379892349243164,
          1.6872748136520386,
          -68.41722869873047,
          -19.968774795532227,
          40.021759033203125,
          6.574865341186523,
          37.42778396606445,
          -34.934295654296875,
          -14.007491111755371,
          23.0909366607666,
          13.121175765991211,
          -20.21041488647461,
          29.97894287109375,
          -24.182157516479492,
          -27.779247283935547,
          10.736763954162598,
          -7.172098636627197,
          -21.229026794433594,
          55.27334976196289,
          -50.50704574584961,
          -53.435237884521484,
          -54.03386688232422,
          -8.376815795898438,
          -39.9634895324707,
          -18.651044845581055,
          -34.2869987487793,
          27.82976722717285,
          -36.280338287353516,
          24.303865432739258,
          2.557176113128662
         ],
         "y": [
          22.017026901245117,
          27.4895076751709,
          16.99485206604004,
          24.691450119018555,
          29.091995239257812,
          16.253087997436523,
          14.257794380187988,
          11.710518836975098,
          21.01630210876465,
          6.282860279083252,
          30.662599563598633,
          39.49765396118164,
          33.16277313232422,
          20.80784797668457,
          -6.5417046546936035,
          49.24433898925781,
          -41.07799530029297,
          49.20671463012695,
          -16.536376953125,
          51.02103805541992,
          67.3455581665039,
          21.07485008239746,
          53.032588958740234,
          36.013587951660156,
          57.269287109375,
          -11.44903564453125,
          21.73997688293457,
          -47.80561828613281,
          23.7841854095459,
          -32.696590423583984,
          7.181756973266602,
          -23.92988395690918,
          -17.418067932128906,
          47.933650970458984,
          40.13163757324219,
          53.85556411743164,
          17.279911041259766,
          -44.396934509277344,
          -13.633079528808594,
          -5.704710960388184,
          20.262432098388672,
          -46.91171646118164,
          38.18708038330078,
          -35.083282470703125,
          9.460104942321777,
          7.711452960968018,
          -61.76023483276367,
          25.077411651611328,
          31.99319076538086,
          18.016111373901367,
          -18.859073638916016,
          41.59695053100586,
          11.839866638183594,
          -0.9510090351104736,
          -17.03627586364746,
          19.924177169799805,
          2.74333119392395,
          20.051576614379883,
          -6.608940601348877,
          54.98300552368164,
          -9.263810157775879,
          40.876136779785156,
          44.488319396972656,
          52.570804595947266,
          40.768558502197266,
          -73.74974060058594,
          13.581181526184082,
          6.4960808753967285,
          38.38429260253906,
          -21.348098754882812,
          -24.01738929748535,
          59.0643424987793,
          22.171554565429688,
          -13.160088539123535,
          -1.3157929182052612,
          -17.05420684814453,
          -13.63037395477295,
          52.42948532104492,
          59.88302993774414,
          -64.28530883789062,
          61.455848693847656,
          -6.694974422454834,
          31.736379623413086,
          -55.69401931762695,
          -10.214285850524902,
          40.35089111328125,
          9.026749610900879,
          16.600723266601562,
          -41.331695556640625,
          -5.565495014190674,
          37.347251892089844,
          8.215547561645508,
          -10.697461128234863,
          37.57756423950195,
          71.00575256347656,
          -2.950312376022339,
          -54.1732292175293,
          38.45602798461914,
          21.184858322143555,
          -27.14095115661621,
          63.1081428527832,
          11.518532752990723,
          -42.607601165771484,
          15.20317554473877,
          -73.23051452636719,
          40.32734298706055,
          -1.0444140434265137,
          7.972141265869141,
          -35.35137176513672,
          70.47164154052734,
          55.67440414428711,
          -57.962738037109375,
          52.02867126464844,
          -58.967201232910156,
          -31.752046585083008,
          -41.73693084716797,
          1.9085605144500732,
          -17.50104331970215,
          9.36702823638916,
          47.79348373413086,
          -20.322967529296875,
          -49.30072021484375,
          -25.0601863861084,
          -5.804449558258057,
          -48.11294174194336,
          5.243028163909912,
          -43.729915618896484,
          -24.898290634155273,
          9.020227432250977,
          2.529250383377075,
          2.67118763923645,
          -7.661236763000488,
          -20.669532775878906,
          -53.34619903564453,
          -25.336795806884766,
          -13.161078453063965,
          43.00763702392578,
          1.4225497245788574,
          39.93975830078125,
          -33.452430725097656,
          -7.105520725250244,
          10.142559051513672,
          -19.92636489868164,
          32.74925994873047,
          -50.73594284057617,
          -2.0146090984344482,
          3.897165536880493,
          20.38475227355957,
          -21.326522827148438,
          15.619913101196289,
          50.997318267822266,
          61.62648010253906,
          45.90423583984375,
          24.363216400146484,
          -21.274845123291016,
          -10.300283432006836,
          -26.645435333251953,
          -36.989994049072266,
          -0.23822064697742462,
          26.6592960357666,
          -7.00197172164917,
          1.235963225364685,
          48.55663299560547,
          -8.346976280212402,
          -15.617337226867676,
          -26.183624267578125,
          -24.519071578979492,
          -18.62517547607422,
          -67.52857971191406,
          -69.3028564453125,
          -12.775690078735352,
          -37.06682586669922,
          7.998973369598389,
          -31.96297836303711,
          16.441503524780273,
          37.91692352294922,
          -24.455114364624023,
          41.72588348388672,
          -27.224210739135742,
          36.99258804321289,
          -35.21527862548828,
          -2.2566230297088623,
          1.2143477201461792,
          -22.30490493774414,
          23.116979598999023,
          18.701007843017578,
          -25.738101959228516,
          -62.45849609375,
          10.655439376831055,
          -12.651668548583984,
          34.778472900390625,
          -36.002716064453125,
          23.583724975585938,
          -60.73682403564453,
          -4.103277206420898,
          -37.72770309448242,
          -41.29756546020508,
          -16.240245819091797,
          32.801307678222656,
          -70.52645874023438
         ],
         "z": [
          -19.44919776916504,
          -14.209192276000977,
          -21.978313446044922,
          -14.207358360290527,
          -24.43462562561035,
          -27.358978271484375,
          -14.535787582397461,
          -30.083696365356445,
          -15.78984546661377,
          -16.822338104248047,
          -26.96883201599121,
          -16.410568237304688,
          -24.440858840942383,
          -17.87264060974121,
          -24.88761329650879,
          -16.262645721435547,
          -4.084903240203857,
          -5.06331205368042,
          3.153374195098877,
          -30.302791595458984,
          -4.360342025756836,
          -33.896209716796875,
          16.97321319580078,
          41.45662307739258,
          -15.503067016601562,
          -44.18402862548828,
          58.567256927490234,
          -34.777164459228516,
          -0.30212321877479553,
          17.424161911010742,
          -76.91167449951172,
          -17.31965446472168,
          2.6395230293273926,
          23.4199161529541,
          43.86102294921875,
          45.250518798828125,
          -61.97160720825195,
          47.36333084106445,
          -58.3657341003418,
          -60.34797286987305,
          -69.50177764892578,
          52.37826156616211,
          -26.325414657592773,
          -20.889793395996094,
          -62.90221405029297,
          -16.6007022857666,
          35.30846405029297,
          -62.90613555908203,
          -5.530956745147705,
          72.0201644897461,
          73.1671142578125,
          -34.508052825927734,
          -70.49790954589844,
          59.50955581665039,
          -20.644229888916016,
          1.52357017993927,
          -43.48133087158203,
          -52.19300842285156,
          35.7443733215332,
          11.015456199645996,
          25.292823791503906,
          38.55573272705078,
          -41.777774810791016,
          -39.92478942871094,
          4.300281047821045,
          11.713482856750488,
          52.317264556884766,
          -50.02228927612305,
          -41.40079116821289,
          -36.047569274902344,
          -33.70634841918945,
          32.871131896972656,
          28.506450653076172,
          -77.9013671875,
          -41.50730895996094,
          -75.84457397460938,
          18.533483505249023,
          -41.855655670166016,
          -39.72695541381836,
          -12.972758293151855,
          26.08413314819336,
          22.668489456176758,
          -53.053550720214844,
          22.01165199279785,
          62.75454330444336,
          2.950303792953491,
          -57.3686637878418,
          -57.82419967651367,
          -25.48478889465332,
          -32.09173583984375,
          -59.86994934082031,
          -22.51019287109375,
          -5.990076065063477,
          21.837356567382812,
          -17.96768569946289,
          -47.065738677978516,
          26.630817413330078,
          9.097747802734375,
          -51.68418502807617,
          15.709770202636719,
          10.191320419311523,
          -6.765749931335449,
          -13.596694946289062,
          -49.49796676635742,
          -9.395947456359863,
          19.63279914855957,
          70.3076400756836,
          -1.2000226974487305,
          14.762386322021484,
          11.352346420288086,
          -2.1114444732666016,
          -33.232730865478516,
          -15.614855766296387,
          41.26646041870117,
          32.175933837890625,
          61.274147033691406,
          -9.128225326538086,
          -48.330406188964844,
          58.12398147583008,
          -50.993553161621094,
          -63.85679626464844,
          -43.612823486328125,
          38.1275520324707,
          23.41917610168457,
          46.83915710449219,
          -33.02964401245117,
          41.350582122802734,
          45.75153350830078,
          79.52238464355469,
          -49.86609649658203,
          -44.61725997924805,
          -50.38522720336914,
          42.279144287109375,
          20.650548934936523,
          71.17452239990234,
          16.200489044189453,
          -64.40946960449219,
          51.9184455871582,
          52.634857177734375,
          -50.11216735839844,
          24.630281448364258,
          45.06375503540039,
          -3.036389112472534,
          62.73368835449219,
          -12.64043140411377,
          -55.567771911621094,
          4.829022407531738,
          -46.500064849853516,
          -48.41815185546875,
          23.694753646850586,
          52.74293899536133,
          9.78416633605957,
          14.423505783081055,
          -2.886732816696167,
          37.98112106323242,
          -39.89132308959961,
          43.332298278808594,
          42.40433883666992,
          -55.952205657958984,
          45.442955017089844,
          -27.976837158203125,
          77.44194793701172,
          -48.61944580078125,
          -33.24844741821289,
          55.529205322265625,
          -37.35919952392578,
          -55.01369094848633,
          74.37789916992188,
          22.72072982788086,
          0.1375279575586319,
          7.526458740234375,
          22.879831314086914,
          19.050161361694336,
          46.49617004394531,
          -40.29998016357422,
          -65.94811248779297,
          -53.15126037597656,
          31.420345306396484,
          -27.322202682495117,
          32.75767517089844,
          60.71297073364258,
          42.918968200683594,
          63.79358673095703,
          -59.46721267700195,
          44.05706787109375,
          -37.35333251953125,
          13.296195030212402,
          -17.85507583618164,
          35.3759651184082,
          52.070701599121094,
          19.491670608520508,
          -23.59307289123535,
          51.4828987121582,
          -2.727602958679199,
          -71.14675903320312,
          9.083898544311523,
          25.472469329833984,
          -38.24016189575195,
          49.36188888549805,
          13.4798583984375
         ]
        }
       ],
       "layout": {
        "legend": {
         "tracegroupgap": 0
        },
        "margin": {
         "t": 60
        },
        "scene": {
         "domain": {
          "x": [
           0,
           1
          ],
          "y": [
           0,
           1
          ]
         },
         "xaxis": {
          "title": {
           "text": "x"
          }
         },
         "yaxis": {
          "title": {
           "text": "y"
          }
         },
         "zaxis": {
          "title": {
           "text": "z"
          }
         }
        },
        "template": {
         "data": {
          "bar": [
           {
            "error_x": {
             "color": "#2a3f5f"
            },
            "error_y": {
             "color": "#2a3f5f"
            },
            "marker": {
             "line": {
              "color": "#E5ECF6",
              "width": 0.5
             },
             "pattern": {
              "fillmode": "overlay",
              "size": 10,
              "solidity": 0.2
             }
            },
            "type": "bar"
           }
          ],
          "barpolar": [
           {
            "marker": {
             "line": {
              "color": "#E5ECF6",
              "width": 0.5
             },
             "pattern": {
              "fillmode": "overlay",
              "size": 10,
              "solidity": 0.2
             }
            },
            "type": "barpolar"
           }
          ],
          "carpet": [
           {
            "aaxis": {
             "endlinecolor": "#2a3f5f",
             "gridcolor": "white",
             "linecolor": "white",
             "minorgridcolor": "white",
             "startlinecolor": "#2a3f5f"
            },
            "baxis": {
             "endlinecolor": "#2a3f5f",
             "gridcolor": "white",
             "linecolor": "white",
             "minorgridcolor": "white",
             "startlinecolor": "#2a3f5f"
            },
            "type": "carpet"
           }
          ],
          "choropleth": [
           {
            "colorbar": {
             "outlinewidth": 0,
             "ticks": ""
            },
            "type": "choropleth"
           }
          ],
          "contour": [
           {
            "colorbar": {
             "outlinewidth": 0,
             "ticks": ""
            },
            "colorscale": [
             [
              0,
              "#0d0887"
             ],
             [
              0.1111111111111111,
              "#46039f"
             ],
             [
              0.2222222222222222,
              "#7201a8"
             ],
             [
              0.3333333333333333,
              "#9c179e"
             ],
             [
              0.4444444444444444,
              "#bd3786"
             ],
             [
              0.5555555555555556,
              "#d8576b"
             ],
             [
              0.6666666666666666,
              "#ed7953"
             ],
             [
              0.7777777777777778,
              "#fb9f3a"
             ],
             [
              0.8888888888888888,
              "#fdca26"
             ],
             [
              1,
              "#f0f921"
             ]
            ],
            "type": "contour"
           }
          ],
          "contourcarpet": [
           {
            "colorbar": {
             "outlinewidth": 0,
             "ticks": ""
            },
            "type": "contourcarpet"
           }
          ],
          "heatmap": [
           {
            "colorbar": {
             "outlinewidth": 0,
             "ticks": ""
            },
            "colorscale": [
             [
              0,
              "#0d0887"
             ],
             [
              0.1111111111111111,
              "#46039f"
             ],
             [
              0.2222222222222222,
              "#7201a8"
             ],
             [
              0.3333333333333333,
              "#9c179e"
             ],
             [
              0.4444444444444444,
              "#bd3786"
             ],
             [
              0.5555555555555556,
              "#d8576b"
             ],
             [
              0.6666666666666666,
              "#ed7953"
             ],
             [
              0.7777777777777778,
              "#fb9f3a"
             ],
             [
              0.8888888888888888,
              "#fdca26"
             ],
             [
              1,
              "#f0f921"
             ]
            ],
            "type": "heatmap"
           }
          ],
          "heatmapgl": [
           {
            "colorbar": {
             "outlinewidth": 0,
             "ticks": ""
            },
            "colorscale": [
             [
              0,
              "#0d0887"
             ],
             [
              0.1111111111111111,
              "#46039f"
             ],
             [
              0.2222222222222222,
              "#7201a8"
             ],
             [
              0.3333333333333333,
              "#9c179e"
             ],
             [
              0.4444444444444444,
              "#bd3786"
             ],
             [
              0.5555555555555556,
              "#d8576b"
             ],
             [
              0.6666666666666666,
              "#ed7953"
             ],
             [
              0.7777777777777778,
              "#fb9f3a"
             ],
             [
              0.8888888888888888,
              "#fdca26"
             ],
             [
              1,
              "#f0f921"
             ]
            ],
            "type": "heatmapgl"
           }
          ],
          "histogram": [
           {
            "marker": {
             "pattern": {
              "fillmode": "overlay",
              "size": 10,
              "solidity": 0.2
             }
            },
            "type": "histogram"
           }
          ],
          "histogram2d": [
           {
            "colorbar": {
             "outlinewidth": 0,
             "ticks": ""
            },
            "colorscale": [
             [
              0,
              "#0d0887"
             ],
             [
              0.1111111111111111,
              "#46039f"
             ],
             [
              0.2222222222222222,
              "#7201a8"
             ],
             [
              0.3333333333333333,
              "#9c179e"
             ],
             [
              0.4444444444444444,
              "#bd3786"
             ],
             [
              0.5555555555555556,
              "#d8576b"
             ],
             [
              0.6666666666666666,
              "#ed7953"
             ],
             [
              0.7777777777777778,
              "#fb9f3a"
             ],
             [
              0.8888888888888888,
              "#fdca26"
             ],
             [
              1,
              "#f0f921"
             ]
            ],
            "type": "histogram2d"
           }
          ],
          "histogram2dcontour": [
           {
            "colorbar": {
             "outlinewidth": 0,
             "ticks": ""
            },
            "colorscale": [
             [
              0,
              "#0d0887"
             ],
             [
              0.1111111111111111,
              "#46039f"
             ],
             [
              0.2222222222222222,
              "#7201a8"
             ],
             [
              0.3333333333333333,
              "#9c179e"
             ],
             [
              0.4444444444444444,
              "#bd3786"
             ],
             [
              0.5555555555555556,
              "#d8576b"
             ],
             [
              0.6666666666666666,
              "#ed7953"
             ],
             [
              0.7777777777777778,
              "#fb9f3a"
             ],
             [
              0.8888888888888888,
              "#fdca26"
             ],
             [
              1,
              "#f0f921"
             ]
            ],
            "type": "histogram2dcontour"
           }
          ],
          "mesh3d": [
           {
            "colorbar": {
             "outlinewidth": 0,
             "ticks": ""
            },
            "type": "mesh3d"
           }
          ],
          "parcoords": [
           {
            "line": {
             "colorbar": {
              "outlinewidth": 0,
              "ticks": ""
             }
            },
            "type": "parcoords"
           }
          ],
          "pie": [
           {
            "automargin": true,
            "type": "pie"
           }
          ],
          "scatter": [
           {
            "fillpattern": {
             "fillmode": "overlay",
             "size": 10,
             "solidity": 0.2
            },
            "type": "scatter"
           }
          ],
          "scatter3d": [
           {
            "line": {
             "colorbar": {
              "outlinewidth": 0,
              "ticks": ""
             }
            },
            "marker": {
             "colorbar": {
              "outlinewidth": 0,
              "ticks": ""
             }
            },
            "type": "scatter3d"
           }
          ],
          "scattercarpet": [
           {
            "marker": {
             "colorbar": {
              "outlinewidth": 0,
              "ticks": ""
             }
            },
            "type": "scattercarpet"
           }
          ],
          "scattergeo": [
           {
            "marker": {
             "colorbar": {
              "outlinewidth": 0,
              "ticks": ""
             }
            },
            "type": "scattergeo"
           }
          ],
          "scattergl": [
           {
            "marker": {
             "colorbar": {
              "outlinewidth": 0,
              "ticks": ""
             }
            },
            "type": "scattergl"
           }
          ],
          "scattermapbox": [
           {
            "marker": {
             "colorbar": {
              "outlinewidth": 0,
              "ticks": ""
             }
            },
            "type": "scattermapbox"
           }
          ],
          "scatterpolar": [
           {
            "marker": {
             "colorbar": {
              "outlinewidth": 0,
              "ticks": ""
             }
            },
            "type": "scatterpolar"
           }
          ],
          "scatterpolargl": [
           {
            "marker": {
             "colorbar": {
              "outlinewidth": 0,
              "ticks": ""
             }
            },
            "type": "scatterpolargl"
           }
          ],
          "scatterternary": [
           {
            "marker": {
             "colorbar": {
              "outlinewidth": 0,
              "ticks": ""
             }
            },
            "type": "scatterternary"
           }
          ],
          "surface": [
           {
            "colorbar": {
             "outlinewidth": 0,
             "ticks": ""
            },
            "colorscale": [
             [
              0,
              "#0d0887"
             ],
             [
              0.1111111111111111,
              "#46039f"
             ],
             [
              0.2222222222222222,
              "#7201a8"
             ],
             [
              0.3333333333333333,
              "#9c179e"
             ],
             [
              0.4444444444444444,
              "#bd3786"
             ],
             [
              0.5555555555555556,
              "#d8576b"
             ],
             [
              0.6666666666666666,
              "#ed7953"
             ],
             [
              0.7777777777777778,
              "#fb9f3a"
             ],
             [
              0.8888888888888888,
              "#fdca26"
             ],
             [
              1,
              "#f0f921"
             ]
            ],
            "type": "surface"
           }
          ],
          "table": [
           {
            "cells": {
             "fill": {
              "color": "#EBF0F8"
             },
             "line": {
              "color": "white"
             }
            },
            "header": {
             "fill": {
              "color": "#C8D4E3"
             },
             "line": {
              "color": "white"
             }
            },
            "type": "table"
           }
          ]
         },
         "layout": {
          "annotationdefaults": {
           "arrowcolor": "#2a3f5f",
           "arrowhead": 0,
           "arrowwidth": 1
          },
          "autotypenumbers": "strict",
          "coloraxis": {
           "colorbar": {
            "outlinewidth": 0,
            "ticks": ""
           }
          },
          "colorscale": {
           "diverging": [
            [
             0,
             "#8e0152"
            ],
            [
             0.1,
             "#c51b7d"
            ],
            [
             0.2,
             "#de77ae"
            ],
            [
             0.3,
             "#f1b6da"
            ],
            [
             0.4,
             "#fde0ef"
            ],
            [
             0.5,
             "#f7f7f7"
            ],
            [
             0.6,
             "#e6f5d0"
            ],
            [
             0.7,
             "#b8e186"
            ],
            [
             0.8,
             "#7fbc41"
            ],
            [
             0.9,
             "#4d9221"
            ],
            [
             1,
             "#276419"
            ]
           ],
           "sequential": [
            [
             0,
             "#0d0887"
            ],
            [
             0.1111111111111111,
             "#46039f"
            ],
            [
             0.2222222222222222,
             "#7201a8"
            ],
            [
             0.3333333333333333,
             "#9c179e"
            ],
            [
             0.4444444444444444,
             "#bd3786"
            ],
            [
             0.5555555555555556,
             "#d8576b"
            ],
            [
             0.6666666666666666,
             "#ed7953"
            ],
            [
             0.7777777777777778,
             "#fb9f3a"
            ],
            [
             0.8888888888888888,
             "#fdca26"
            ],
            [
             1,
             "#f0f921"
            ]
           ],
           "sequentialminus": [
            [
             0,
             "#0d0887"
            ],
            [
             0.1111111111111111,
             "#46039f"
            ],
            [
             0.2222222222222222,
             "#7201a8"
            ],
            [
             0.3333333333333333,
             "#9c179e"
            ],
            [
             0.4444444444444444,
             "#bd3786"
            ],
            [
             0.5555555555555556,
             "#d8576b"
            ],
            [
             0.6666666666666666,
             "#ed7953"
            ],
            [
             0.7777777777777778,
             "#fb9f3a"
            ],
            [
             0.8888888888888888,
             "#fdca26"
            ],
            [
             1,
             "#f0f921"
            ]
           ]
          },
          "colorway": [
           "#636efa",
           "#EF553B",
           "#00cc96",
           "#ab63fa",
           "#FFA15A",
           "#19d3f3",
           "#FF6692",
           "#B6E880",
           "#FF97FF",
           "#FECB52"
          ],
          "font": {
           "color": "#2a3f5f"
          },
          "geo": {
           "bgcolor": "white",
           "lakecolor": "white",
           "landcolor": "#E5ECF6",
           "showlakes": true,
           "showland": true,
           "subunitcolor": "white"
          },
          "hoverlabel": {
           "align": "left"
          },
          "hovermode": "closest",
          "mapbox": {
           "style": "light"
          },
          "paper_bgcolor": "white",
          "plot_bgcolor": "#E5ECF6",
          "polar": {
           "angularaxis": {
            "gridcolor": "white",
            "linecolor": "white",
            "ticks": ""
           },
           "bgcolor": "#E5ECF6",
           "radialaxis": {
            "gridcolor": "white",
            "linecolor": "white",
            "ticks": ""
           }
          },
          "scene": {
           "xaxis": {
            "backgroundcolor": "#E5ECF6",
            "gridcolor": "white",
            "gridwidth": 2,
            "linecolor": "white",
            "showbackground": true,
            "ticks": "",
            "zerolinecolor": "white"
           },
           "yaxis": {
            "backgroundcolor": "#E5ECF6",
            "gridcolor": "white",
            "gridwidth": 2,
            "linecolor": "white",
            "showbackground": true,
            "ticks": "",
            "zerolinecolor": "white"
           },
           "zaxis": {
            "backgroundcolor": "#E5ECF6",
            "gridcolor": "white",
            "gridwidth": 2,
            "linecolor": "white",
            "showbackground": true,
            "ticks": "",
            "zerolinecolor": "white"
           }
          },
          "shapedefaults": {
           "line": {
            "color": "#2a3f5f"
           }
          },
          "ternary": {
           "aaxis": {
            "gridcolor": "white",
            "linecolor": "white",
            "ticks": ""
           },
           "baxis": {
            "gridcolor": "white",
            "linecolor": "white",
            "ticks": ""
           },
           "bgcolor": "#E5ECF6",
           "caxis": {
            "gridcolor": "white",
            "linecolor": "white",
            "ticks": ""
           }
          },
          "title": {
           "x": 0.05
          },
          "xaxis": {
           "automargin": true,
           "gridcolor": "white",
           "linecolor": "white",
           "ticks": "",
           "title": {
            "standoff": 15
           },
           "zerolinecolor": "white",
           "zerolinewidth": 2
          },
          "yaxis": {
           "automargin": true,
           "gridcolor": "white",
           "linecolor": "white",
           "ticks": "",
           "title": {
            "standoff": 15
           },
           "zerolinecolor": "white",
           "zerolinewidth": 2
          }
         }
        }
       }
      }
     },
     "metadata": {},
     "output_type": "display_data"
    }
   ],
   "source": [
    "# Graficar los embedddings en 3D\n",
    "\n",
    "vecs, labels = reduce_dimensions(w2v_model,3)\n",
    "\n",
    "fig = px.scatter_3d(x=vecs[:MAX_WORDS,0], y=vecs[:MAX_WORDS,1], z=vecs[:MAX_WORDS,2],text=labels[:MAX_WORDS])\n",
    "fig.update_traces(marker_size = 2)\n",
    "fig.show()"
   ]
  },
  {
   "cell_type": "code",
   "execution_count": 21,
   "metadata": {},
   "outputs": [],
   "source": [
    "# También se pueden guardar los vectores y labels como tsv para graficar en\n",
    "# http://projector.tensorflow.org/\n",
    "\n",
    "vectors = np.asarray(w2v_model.wv.vectors)\n",
    "labels = list(w2v_model.wv.index_to_key)\n",
    "\n",
    "np.savetxt(\"vectors.tsv\", vectors, delimiter=\"\\t\")\n",
    "\n",
    "with open(\"labels.tsv\", \"w\") as fp:\n",
    "    for item in labels:\n",
    "        fp.write(\"%s\\n\" % item)"
   ]
  },
  {
   "cell_type": "markdown",
   "metadata": {},
   "source": [
    "### Conclusiones\n",
    "\n",
    "* El algoritmo es capaz de separar la transcripción del debate presidencial en oraciones y tokenizar las palabras. \n",
    "* El modelo de embeddings entrenado con el corpus del debate presidencial es capaz de capturar relaciones semánticas relevantes y contextualizar adecuadamente los términos clave discutidos durante el evento.\n",
    "* Las palabras asociadas con nombres propios como \"Bullrich\" y \"Sergio\" muestran una asociación con otros nombres y saludos, lo que indica que el modelo ha aprendido las relaciones entre diferentes personas que participaron en el debate.\n",
    "* Las palabras que se relacionan más estrechamente con términos clave como \"FMI\" y \"inflación\" reflejan aspectos relevantes del contexto del debate, como \"deuda\", \"PBI\", \"monetario\" para \"FMI\", y \"política\", \"acuerdo\", \"moneda\" para \"inflación\". Esto indica que el modelo ha sido capaz de capturar el contexto en el que se utilizaron estas palabras durante el debate.\n",
    "\n"
   ]
  }
 ],
 "metadata": {
  "kernelspec": {
   "display_name": "Python 3",
   "language": "python",
   "name": "python3"
  },
  "language_info": {
   "codemirror_mode": {
    "name": "ipython",
    "version": 3
   },
   "file_extension": ".py",
   "mimetype": "text/x-python",
   "name": "python",
   "nbconvert_exporter": "python",
   "pygments_lexer": "ipython3",
   "version": "3.11.9"
  }
 },
 "nbformat": 4,
 "nbformat_minor": 2
}
